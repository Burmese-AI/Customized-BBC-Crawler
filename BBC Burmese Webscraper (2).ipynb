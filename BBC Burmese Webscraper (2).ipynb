{
 "cells": [
  {
   "cell_type": "markdown",
   "id": "dc5d977b-479e-4691-b9ff-2984a1044118",
   "metadata": {},
   "source": [
    "# BBC Burmese Webscraper (2): Scraping Headers and Dates of Multiple Pages\n",
    "by <a href=\"https://www.linkedin.com/in/la-wun-nannda-b047681b5/\">`La Wun Nannda`</a>"
   ]
  },
  {
   "cell_type": "markdown",
   "id": "0bb7f695-3462-4d16-ae65-1971cd63155f",
   "metadata": {},
   "source": [
    "## Libraries"
   ]
  },
  {
   "cell_type": "code",
   "execution_count": 1,
   "id": "11b1863d-db73-4d12-aa17-5fc1b26f826a",
   "metadata": {},
   "outputs": [],
   "source": [
    "# import libraries\n",
    "from bs4 import BeautifulSoup # this module helps in web scrapping\n",
    "import requests  # this module helps us to download a web page\n",
    "import pandas as pd"
   ]
  },
  {
   "cell_type": "markdown",
   "id": "4ebba22e-34d7-4fff-9549-79d90688f8a5",
   "metadata": {},
   "source": [
    "## Navigating Remaining Pages"
   ]
  },
  {
   "cell_type": "code",
   "execution_count": 2,
   "id": "4868578b-3509-4d52-ba40-93da466dd88c",
   "metadata": {},
   "outputs": [
    {
     "data": {
      "text/plain": [
       "[<a aria-current=\"page\" class=\"focusIndicatorOutlineBlack bbc-gtjcdn\" href=\"?page=1\">1</a>,\n",
       " <a class=\"focusIndicatorOutlineBlack bbc-1spja2a\" href=\"?page=2\">2</a>,\n",
       " <a class=\"focusIndicatorOutlineBlack bbc-1spja2a\" href=\"?page=3\">3</a>,\n",
       " <a class=\"focusIndicatorOutlineBlack bbc-1spja2a\" href=\"?page=4\">4</a>,\n",
       " <a class=\"focusIndicatorOutlineBlack bbc-1spja2a\" href=\"?page=5\">5</a>,\n",
       " <a class=\"focusIndicatorOutlineBlack bbc-1spja2a\" href=\"?page=6\">6</a>,\n",
       " <a class=\"focusIndicatorOutlineBlack bbc-1spja2a\" href=\"?page=7\">7</a>,\n",
       " <a class=\"focusIndicatorOutlineBlack bbc-1spja2a\" href=\"?page=28\">28</a>,\n",
       " <a aria-labelledby=\"pagination-next-page\" class=\"focusIndicatorOutlineBlack bbc-1spja2a\" href=\"?page=2\"><span id=\"pagination-next-page\"><span class=\"bbc-m04vo2\">ရှေ့သို့သွားရန်</span><svg aria-hidden=\"true\" focusable=\"false\" height=\"12\" viewBox=\"0 0 32 32\" width=\"12\"><path d=\"M21.6 14.3L5.5 31h6.4l14.6-15L11.9 1H5.5l16.1 16.7v-3.4z\"></path></svg></span></a>]"
      ]
     },
     "execution_count": 2,
     "metadata": {},
     "output_type": "execute_result"
    }
   ],
   "source": [
    "# webscrape the main page\n",
    "url = \"https://www.bbc.com/burmese/topics/c9wpm0en9jdt\"\n",
    "response = requests.get(url)\n",
    "soup = BeautifulSoup(response.content, 'html5lib')\n",
    "\n",
    "# links to other pages\n",
    "other_pages_soup = soup.find_all(\"a\", {\"class\":\"focusIndicatorOutlineBlack\", \"href\":True})\n",
    "other_pages_soup"
   ]
  },
  {
   "cell_type": "code",
   "execution_count": 3,
   "id": "37b5fe24-72ab-4b90-a64e-65975e9ea3ac",
   "metadata": {},
   "outputs": [
    {
     "data": {
      "text/plain": [
       "<a aria-labelledby=\"pagination-next-page\" class=\"focusIndicatorOutlineBlack bbc-1spja2a\" href=\"?page=2\"><span id=\"pagination-next-page\"><span class=\"bbc-m04vo2\">ရှေ့သို့သွားရန်</span><svg aria-hidden=\"true\" focusable=\"false\" height=\"12\" viewBox=\"0 0 32 32\" width=\"12\"><path d=\"M21.6 14.3L5.5 31h6.4l14.6-15L11.9 1H5.5l16.1 16.7v-3.4z\"></path></svg></span></a>"
      ]
     },
     "execution_count": 3,
     "metadata": {},
     "output_type": "execute_result"
    }
   ],
   "source": [
    "# link to next page\n",
    "next_page_soup = soup.find(\"a\", {\"aria-labelledby\":\"pagination-next-page\", \"class\":\"focusIndicatorOutlineBlack\", \"href\":True})\n",
    "next_page_soup"
   ]
  },
  {
   "cell_type": "code",
   "execution_count": 4,
   "id": "4cd4ba3f-01c7-47ec-8d66-c80065ab1df4",
   "metadata": {},
   "outputs": [
    {
     "data": {
      "text/plain": [
       "'?page=2'"
      ]
     },
     "execution_count": 4,
     "metadata": {},
     "output_type": "execute_result"
    }
   ],
   "source": [
    "# extract the adder link\n",
    "adder_url = next_page_soup.attrs['href']\n",
    "adder_url"
   ]
  },
  {
   "cell_type": "code",
   "execution_count": 5,
   "id": "2d3bb647-3cd0-4bba-91b1-80a77d5212cd",
   "metadata": {},
   "outputs": [
    {
     "data": {
      "text/plain": [
       "'https://www.bbc.com/burmese/topics/c9wpm0en9jdt?page=2'"
      ]
     },
     "execution_count": 5,
     "metadata": {},
     "output_type": "execute_result"
    }
   ],
   "source": [
    "# get the HTML link to the next page\n",
    "complete_url = url + adder_url\n",
    "complete_url"
   ]
  },
  {
   "cell_type": "code",
   "execution_count": 6,
   "id": "af46abb8-e31b-4a90-b5fb-a1cef0ee0058",
   "metadata": {},
   "outputs": [
    {
     "data": {
      "text/plain": [
       "28"
      ]
     },
     "execution_count": 6,
     "metadata": {},
     "output_type": "execute_result"
    }
   ],
   "source": [
    "# get the last page index\n",
    "last_page_soup = other_pages_soup[-2]\n",
    "last_page_index = int(last_page_soup.string)\n",
    "last_page_index"
   ]
  },
  {
   "cell_type": "code",
   "execution_count": 7,
   "id": "c08e14f5-9e38-499c-b05e-36223102c340",
   "metadata": {},
   "outputs": [
    {
     "name": "stdout",
     "output_type": "stream",
     "text": [
      "https://www.bbc.com/burmese/topics/c9wpm0en9jdt?page=2\n",
      "https://www.bbc.com/burmese/topics/c9wpm0en9jdt?page=2\n",
      "https://www.bbc.com/burmese/topics/c9wpm0en9jdt?page=3\n",
      "https://www.bbc.com/burmese/topics/c9wpm0en9jdt?page=4\n",
      "https://www.bbc.com/burmese/topics/c9wpm0en9jdt?page=5\n",
      "https://www.bbc.com/burmese/topics/c9wpm0en9jdt?page=6\n",
      "https://www.bbc.com/burmese/topics/c9wpm0en9jdt?page=7\n",
      "https://www.bbc.com/burmese/topics/c9wpm0en9jdt?page=8\n",
      "https://www.bbc.com/burmese/topics/c9wpm0en9jdt?page=9\n",
      "https://www.bbc.com/burmese/topics/c9wpm0en9jdt?page=10\n",
      "https://www.bbc.com/burmese/topics/c9wpm0en9jdt?page=11\n",
      "https://www.bbc.com/burmese/topics/c9wpm0en9jdt?page=12\n",
      "https://www.bbc.com/burmese/topics/c9wpm0en9jdt?page=13\n",
      "https://www.bbc.com/burmese/topics/c9wpm0en9jdt?page=14\n",
      "https://www.bbc.com/burmese/topics/c9wpm0en9jdt?page=15\n",
      "https://www.bbc.com/burmese/topics/c9wpm0en9jdt?page=16\n",
      "https://www.bbc.com/burmese/topics/c9wpm0en9jdt?page=17\n",
      "https://www.bbc.com/burmese/topics/c9wpm0en9jdt?page=18\n",
      "https://www.bbc.com/burmese/topics/c9wpm0en9jdt?page=19\n",
      "https://www.bbc.com/burmese/topics/c9wpm0en9jdt?page=20\n",
      "https://www.bbc.com/burmese/topics/c9wpm0en9jdt?page=21\n",
      "https://www.bbc.com/burmese/topics/c9wpm0en9jdt?page=22\n",
      "https://www.bbc.com/burmese/topics/c9wpm0en9jdt?page=23\n",
      "https://www.bbc.com/burmese/topics/c9wpm0en9jdt?page=24\n",
      "https://www.bbc.com/burmese/topics/c9wpm0en9jdt?page=25\n",
      "https://www.bbc.com/burmese/topics/c9wpm0en9jdt?page=26\n",
      "https://www.bbc.com/burmese/topics/c9wpm0en9jdt?page=27\n",
      "https://www.bbc.com/burmese/topics/c9wpm0en9jdt?page=28\n",
      "The end of the pages is reached.\n"
     ]
    }
   ],
   "source": [
    "# try to loop getting urls until the last page\n",
    "static_url = url\n",
    "for i in range(last_page_index):\n",
    "    try:\n",
    "        print(complete_url)\n",
    "        next_page_soup = soup.find(\"a\", {\"aria-labelledby\":\"pagination-next-page\", \"class\":\"focusIndicatorOutlineBlack\", \"href\":True})\n",
    "        adder_url = next_page_soup.attrs['href']\n",
    "        complete_url = static_url + adder_url\n",
    "        response = requests.get(complete_url)\n",
    "        soup = BeautifulSoup(response.content, 'html5lib')\n",
    "    except AttributeError: # scraping the page after the last page will cause error\n",
    "        print(\"The end of the pages is reached.\")"
   ]
  },
  {
   "cell_type": "markdown",
   "id": "714b0df3-fd66-4642-ad12-08d0256c16d8",
   "metadata": {},
   "source": [
    "## Making Everything a Function"
   ]
  },
  {
   "cell_type": "code",
   "execution_count": 8,
   "id": "7cdccee8-f871-4cf9-a180-23a40e0feda5",
   "metadata": {},
   "outputs": [],
   "source": [
    "# function to get soup with URL input\n",
    "def web_scraper(url):\n",
    "    response = requests.get(url)\n",
    "    soup = BeautifulSoup(response.content, 'html5lib')\n",
    "    return soup"
   ]
  },
  {
   "cell_type": "code",
   "execution_count": 9,
   "id": "e60a9eab-01f4-4c50-b29e-e3350226a11f",
   "metadata": {},
   "outputs": [],
   "source": [
    "# function to get specific elements within a soup\n",
    "def soup_parser(soup):\n",
    "    news_headers_soup = soup.find_all(\"a\", {\"class\":\"focusIndicatorDisplayBlock\"})\n",
    "    datetime_soup = soup.find_all(\"time\", {\"class\":\"promo-timestamp\"})\n",
    "    return news_headers_soup, datetime_soup"
   ]
  },
  {
   "cell_type": "code",
   "execution_count": 10,
   "id": "3b730079-3a4b-43b1-9f48-c1f32f26e374",
   "metadata": {},
   "outputs": [],
   "source": [
    "# function to create lists that are to be appended to original ones\n",
    "def list_append(news_headers_soup, datetime_soup):\n",
    "    news_headers_per_page = []\n",
    "    datetime_per_page = []\n",
    "    if len(news_headers_soup)==len(datetime_soup): # if the lengths are the same, start adding them to the lists\n",
    "        \n",
    "        for i in range(len(news_headers_soup)): # get index\n",
    "    \n",
    "            # list 1 for news headers\n",
    "            try: # for news headers without video tag # video tagged ones will cause errors\n",
    "                news_headers_per_page.append(news_headers_soup[i].string.strip()) # convert 'BeautifulSoup string' to 'Python string' # add content to list 1\n",
    "            except AttributeError: # # for news headers with video tag\n",
    "                # list() is used to convert 'BeautifulSoup tag' object to 'list' to enable iteration \n",
    "                news_headers_per_page.append(list(news_headers_soup[i].span)[1].strip()) # convert 'BeautifulSoup string' to 'Python string' # add content to list 1\n",
    "    \n",
    "            # list 2 for date and time\n",
    "            datetime_per_page.append(datetime_soup[i].string.strip()) # convert 'BeautifulSoup string' to 'Python string' # add content to list 2\n",
    "            \n",
    "        if (len(news_headers_per_page)==len(news_headers_soup)) & (len(datetime_per_page)==len(datetime_soup)): # if everything is added to two lists\n",
    "            return news_headers_per_page, datetime_per_page"
   ]
  },
  {
   "cell_type": "code",
   "execution_count": 11,
   "id": "4819cadb-4b16-4c38-9a5d-c9bc85622dab",
   "metadata": {},
   "outputs": [],
   "source": [
    "# function to get next page url\n",
    "def navigate_next_page(web_url, soup):\n",
    "    next_page_soup = soup.find(\"a\", {\"aria-labelledby\":\"pagination-next-page\", \"class\":\"focusIndicatorOutlineBlack\", \"href\":True})\n",
    "    complete_url = web_url + next_page_soup.attrs['href']\n",
    "    return complete_url"
   ]
  },
  {
   "cell_type": "code",
   "execution_count": 12,
   "id": "1718d131-8b05-4656-81d6-2520aa4c1ed7",
   "metadata": {},
   "outputs": [],
   "source": [
    "# function to get the last page index\n",
    "def get_max_page(soup):\n",
    "    last_page_soup = soup.find_all(\"a\", {\"class\":\"focusIndicatorOutlineBlack\", \"href\":True})[-2]\n",
    "    last_page_index = int(last_page_soup.string)\n",
    "    return last_page_index"
   ]
  },
  {
   "cell_type": "code",
   "execution_count": 13,
   "id": "827346a6-159f-42f9-8a13-38bb8097b544",
   "metadata": {},
   "outputs": [],
   "source": [
    "# function to produce a spreadsheet\n",
    "def export_excel(first_list, second_list):\n",
    "    BBC = {}\n",
    "    BBC['News Header'] = first_list\n",
    "    BBC['Time'] = second_list\n",
    "    df = pd.DataFrame({key:pd.Series(value) for key, value in BBC.items()})\n",
    "    df.to_excel('BBC_webscraped.xlsx', index=False)\n",
    "    return df"
   ]
  },
  {
   "cell_type": "markdown",
   "id": "8dba321d-84f6-476d-8697-60d0f1c30c0c",
   "metadata": {},
   "source": [
    "## Scraping Every Page to Spreadsheet"
   ]
  },
  {
   "cell_type": "code",
   "execution_count": 14,
   "id": "03d03226-0cc6-4d59-8f59-b39b14c48a12",
   "metadata": {},
   "outputs": [],
   "source": [
    "# the main function\n",
    "def main(web_url):\n",
    "    news_headers = []\n",
    "    datetime = []\n",
    "\n",
    "    # for the first page\n",
    "    complete_url = web_url # initial url\n",
    "    soup = web_scraper(complete_url) # get soup\n",
    "    last_page_index = get_max_page(soup) # get last page index\n",
    "    news_headers_soup, datetime_soup = soup_parser(soup) # get specific elements\n",
    "    news_headers_new_list, datetime_new_list = list_append(news_headers_soup, datetime_soup) # extract data\n",
    "    \n",
    "    # append data to lists\n",
    "    news_headers += news_headers_new_list\n",
    "    datetime += datetime_new_list\n",
    "    \n",
    "    # from the second page to the last page\n",
    "    for i in range(last_page_index): \n",
    "        try:\n",
    "            print(complete_url)\n",
    "            complete_url = navigate_next_page(web_url, soup) # get next url\n",
    "            soup = web_scraper(complete_url) # get soup\n",
    "            news_headers_soup, datetime_soup = soup_parser(soup) # get specific elements\n",
    "            news_headers_new_list, datetime_new_list = list_append(news_headers_soup, datetime_soup) # extract data\n",
    "    \n",
    "            # append data to lists\n",
    "            news_headers += news_headers_new_list\n",
    "            datetime += datetime_new_list\n",
    "        \n",
    "        except AttributeError: # scraping the page after the last page will cause error\n",
    "            print(\"The end of the pages is reached.\")\n",
    "\n",
    "    return export_excel(news_headers, datetime) # export the spreadsheet # return df"
   ]
  },
  {
   "cell_type": "code",
   "execution_count": 15,
   "id": "caed62e5-eb3d-4dc0-8961-bdcda5e56e09",
   "metadata": {},
   "outputs": [
    {
     "name": "stdout",
     "output_type": "stream",
     "text": [
      "https://www.bbc.com/burmese/topics/c9wpm0en9jdt\n",
      "https://www.bbc.com/burmese/topics/c9wpm0en9jdt?page=2\n",
      "https://www.bbc.com/burmese/topics/c9wpm0en9jdt?page=3\n",
      "https://www.bbc.com/burmese/topics/c9wpm0en9jdt?page=4\n",
      "https://www.bbc.com/burmese/topics/c9wpm0en9jdt?page=5\n",
      "https://www.bbc.com/burmese/topics/c9wpm0en9jdt?page=6\n",
      "https://www.bbc.com/burmese/topics/c9wpm0en9jdt?page=7\n",
      "https://www.bbc.com/burmese/topics/c9wpm0en9jdt?page=8\n",
      "https://www.bbc.com/burmese/topics/c9wpm0en9jdt?page=9\n",
      "https://www.bbc.com/burmese/topics/c9wpm0en9jdt?page=10\n",
      "https://www.bbc.com/burmese/topics/c9wpm0en9jdt?page=11\n",
      "https://www.bbc.com/burmese/topics/c9wpm0en9jdt?page=12\n",
      "https://www.bbc.com/burmese/topics/c9wpm0en9jdt?page=13\n",
      "https://www.bbc.com/burmese/topics/c9wpm0en9jdt?page=14\n",
      "https://www.bbc.com/burmese/topics/c9wpm0en9jdt?page=15\n",
      "https://www.bbc.com/burmese/topics/c9wpm0en9jdt?page=16\n",
      "https://www.bbc.com/burmese/topics/c9wpm0en9jdt?page=17\n",
      "https://www.bbc.com/burmese/topics/c9wpm0en9jdt?page=18\n",
      "https://www.bbc.com/burmese/topics/c9wpm0en9jdt?page=19\n",
      "https://www.bbc.com/burmese/topics/c9wpm0en9jdt?page=20\n",
      "https://www.bbc.com/burmese/topics/c9wpm0en9jdt?page=21\n",
      "https://www.bbc.com/burmese/topics/c9wpm0en9jdt?page=22\n",
      "https://www.bbc.com/burmese/topics/c9wpm0en9jdt?page=23\n",
      "https://www.bbc.com/burmese/topics/c9wpm0en9jdt?page=24\n",
      "https://www.bbc.com/burmese/topics/c9wpm0en9jdt?page=25\n",
      "https://www.bbc.com/burmese/topics/c9wpm0en9jdt?page=26\n",
      "https://www.bbc.com/burmese/topics/c9wpm0en9jdt?page=27\n",
      "https://www.bbc.com/burmese/topics/c9wpm0en9jdt?page=28\n",
      "The end of the pages is reached.\n"
     ]
    }
   ],
   "source": [
    "df = main(\"https://www.bbc.com/burmese/topics/c9wpm0en9jdt\")"
   ]
  },
  {
   "cell_type": "code",
   "execution_count": 16,
   "id": "8d7c99ae-8c08-4d4f-8688-40b3b31004aa",
   "metadata": {},
   "outputs": [
    {
     "data": {
      "text/html": [
       "<div>\n",
       "<style scoped>\n",
       "    .dataframe tbody tr th:only-of-type {\n",
       "        vertical-align: middle;\n",
       "    }\n",
       "\n",
       "    .dataframe tbody tr th {\n",
       "        vertical-align: top;\n",
       "    }\n",
       "\n",
       "    .dataframe thead th {\n",
       "        text-align: right;\n",
       "    }\n",
       "</style>\n",
       "<table border=\"1\" class=\"dataframe\">\n",
       "  <thead>\n",
       "    <tr style=\"text-align: right;\">\n",
       "      <th></th>\n",
       "      <th>News Header</th>\n",
       "      <th>Time</th>\n",
       "    </tr>\n",
       "  </thead>\n",
       "  <tbody>\n",
       "    <tr>\n",
       "      <th>0</th>\n",
       "      <td>ဗီယက်နမ်ခေါင်းဆောင် ငုယင်ဖူချောင်း အသက် ၈ဝ မှာ...</td>\n",
       "      <td>၁၉ ဇူလိုင် ၂၀၂၄</td>\n",
       "    </tr>\n",
       "    <tr>\n",
       "      <th>1</th>\n",
       "      <td>‘ကျွန်တော်လက်ထဲ ဘာလက်နက်မှမရှိဘူး’- ပစ်သတ်ခံခဲ...</td>\n",
       "      <td>၁၈ ဇူလိုင် ၂၀၂၄</td>\n",
       "    </tr>\n",
       "    <tr>\n",
       "      <th>2</th>\n",
       "      <td>ဘန်ကောက် ဟိုတယ်ထဲ သေဆုံးသူ ၆ ဦးရဲ့သွေးထဲမှာ ဆိ...</td>\n",
       "      <td>၁၇ ဇူလိုင် ၂၀၂၄</td>\n",
       "    </tr>\n",
       "    <tr>\n",
       "      <th>3</th>\n",
       "      <td>ထိုင်းဗီဇာမလိုဘဲ ပြည်တွင်းဝင်ခွင့် နိုင်ငံ ၃၀ ...</td>\n",
       "      <td>၁၃ ဇူလိုင် ၂၀၂၄</td>\n",
       "    </tr>\n",
       "    <tr>\n",
       "      <th>4</th>\n",
       "      <td>ရိုးမရဲ့ ဘီလျံနာသူဌေးကြီး ဆာ့ချ်ပန်းကို စစ်ကော...</td>\n",
       "      <td>၁၁ ဇူလိုင် ၂၀၂၄</td>\n",
       "    </tr>\n",
       "    <tr>\n",
       "      <th>...</th>\n",
       "      <td>...</td>\n",
       "      <td>...</td>\n",
       "    </tr>\n",
       "    <tr>\n",
       "      <th>666</th>\n",
       "      <td>ကိုဗစ်ကြောင့် ထိုင်းမှာ ပိတ်ထားတာတွေကို ပြန်ဖွင့်</td>\n",
       "      <td>၈ မေ ၂၀၂၀</td>\n",
       "    </tr>\n",
       "    <tr>\n",
       "      <th>667</th>\n",
       "      <td>ရှမ်းပြည်က ပြောင်းဖူးတွေ မြစ်ထဲ ပစ်ချနေရတဲ့ နေ...</td>\n",
       "      <td>၈ မေ ၂၀၂၀</td>\n",
       "    </tr>\n",
       "    <tr>\n",
       "      <th>668</th>\n",
       "      <td>အိန္ဒိယမှာ ကိုရိုနာဗိုင်းရပ်စ် ကူးစက်မှု ထိုးတက်</td>\n",
       "      <td>၅ မေ ၂၀၂၀</td>\n",
       "    </tr>\n",
       "    <tr>\n",
       "      <th>669</th>\n",
       "      <td>ကိုဗစ်ကြောင့်တန်နဲ့ချီ ပျက်စီးခဲ့ရတဲ့ တရုတ်နယ်...</td>\n",
       "      <td>၂၈ ဧပြီ ၂၀၂၀</td>\n",
       "    </tr>\n",
       "    <tr>\n",
       "      <th>670</th>\n",
       "      <td>တစ်ပတ်အတွင်း ဘာတွေဖြစ်ခဲ့လဲ</td>\n",
       "      <td>၂၈ ဧပြီ ၂၀၂၀</td>\n",
       "    </tr>\n",
       "  </tbody>\n",
       "</table>\n",
       "<p>671 rows × 2 columns</p>\n",
       "</div>"
      ],
      "text/plain": [
       "                                           News Header             Time\n",
       "0    ဗီယက်နမ်ခေါင်းဆောင် ငုယင်ဖူချောင်း အသက် ၈ဝ မှာ...  ၁၉ ဇူလိုင် ၂၀၂၄\n",
       "1    ‘ကျွန်တော်လက်ထဲ ဘာလက်နက်မှမရှိဘူး’- ပစ်သတ်ခံခဲ...  ၁၈ ဇူလိုင် ၂၀၂၄\n",
       "2    ဘန်ကောက် ဟိုတယ်ထဲ သေဆုံးသူ ၆ ဦးရဲ့သွေးထဲမှာ ဆိ...  ၁၇ ဇူလိုင် ၂၀၂၄\n",
       "3    ထိုင်းဗီဇာမလိုဘဲ ပြည်တွင်းဝင်ခွင့် နိုင်ငံ ၃၀ ...  ၁၃ ဇူလိုင် ၂၀၂၄\n",
       "4    ရိုးမရဲ့ ဘီလျံနာသူဌေးကြီး ဆာ့ချ်ပန်းကို စစ်ကော...  ၁၁ ဇူလိုင် ၂၀၂၄\n",
       "..                                                 ...              ...\n",
       "666  ကိုဗစ်ကြောင့် ထိုင်းမှာ ပိတ်ထားတာတွေကို ပြန်ဖွင့်        ၈ မေ ၂၀၂၀\n",
       "667  ရှမ်းပြည်က ပြောင်းဖူးတွေ မြစ်ထဲ ပစ်ချနေရတဲ့ နေ...        ၈ မေ ၂၀၂၀\n",
       "668   အိန္ဒိယမှာ ကိုရိုနာဗိုင်းရပ်စ် ကူးစက်မှု ထိုးတက်        ၅ မေ ၂၀၂၀\n",
       "669  ကိုဗစ်ကြောင့်တန်နဲ့ချီ ပျက်စီးခဲ့ရတဲ့ တရုတ်နယ်...     ၂၈ ဧပြီ ၂၀၂၀\n",
       "670                        တစ်ပတ်အတွင်း ဘာတွေဖြစ်ခဲ့လဲ     ၂၈ ဧပြီ ၂၀၂၀\n",
       "\n",
       "[671 rows x 2 columns]"
      ]
     },
     "execution_count": 16,
     "metadata": {},
     "output_type": "execute_result"
    }
   ],
   "source": [
    "# check the dataframe\n",
    "df"
   ]
  }
 ],
 "metadata": {
  "kernelspec": {
   "display_name": "Python 3 (ipykernel)",
   "language": "python",
   "name": "python3"
  },
  "language_info": {
   "codemirror_mode": {
    "name": "ipython",
    "version": 3
   },
   "file_extension": ".py",
   "mimetype": "text/x-python",
   "name": "python",
   "nbconvert_exporter": "python",
   "pygments_lexer": "ipython3",
   "version": "3.11.9"
  }
 },
 "nbformat": 4,
 "nbformat_minor": 5
}
