{
 "cells": [
  {
   "cell_type": "markdown",
   "id": "3876cea8-aaa8-475c-af07-5949271d4d1c",
   "metadata": {},
   "source": [
    "# Khit Thit Webscraper (1): Scraping Headers, Dates, and Contents of Multiple Pages Without Duplicates\n",
    "by <a href=\"https://www.linkedin.com/in/la-wun-nannda-b047681b5/\">`La Wun Nannda`</a>"
   ]
  },
  {
   "cell_type": "markdown",
   "id": "be6c33bb-bbdf-4e4f-a729-5cbf9680a94c",
   "metadata": {},
   "source": [
    "## Libraries"
   ]
  },
  {
   "cell_type": "code",
   "execution_count": 1,
   "id": "cbe0dfd4-50ac-4fa2-a1d0-a3b48eaa16a4",
   "metadata": {},
   "outputs": [],
   "source": [
    "# import libraries\n",
    "from bs4 import BeautifulSoup # this module helps in web scrapping\n",
    "import requests  # this module helps us to download a web page\n",
    "import pandas as pd"
   ]
  },
  {
   "cell_type": "markdown",
   "id": "57e8fb46-34ae-4be2-91be-cd3a04376a0e",
   "metadata": {},
   "source": [
    "## Functions for Scraping A Single Page"
   ]
  },
  {
   "cell_type": "code",
   "execution_count": 2,
   "id": "138387c7-a412-414e-99b5-a64b124487d5",
   "metadata": {},
   "outputs": [],
   "source": [
    "# function to get soup with URL input\n",
    "def web_scraper(url):\n",
    "    response = requests.get(url)\n",
    "    soup = BeautifulSoup(response.content, 'html5lib')\n",
    "    return soup"
   ]
  },
  {
   "cell_type": "code",
   "execution_count": 3,
   "id": "2e7acd63-7edd-41a9-900d-fced866fbff0",
   "metadata": {},
   "outputs": [],
   "source": [
    "# function to get specific elements within a soup\n",
    "def soup_parser(soup):\n",
    "    news_headers_soup = soup.find_all(\"a\", {\"class\":None, \"rel\":\"bookmark\"})\n",
    "    datetime_soup = soup.find_all(\"time\")\n",
    "    return news_headers_soup, datetime_soup"
   ]
  },
  {
   "cell_type": "code",
   "execution_count": 4,
   "id": "5c947622-fd28-4f0a-a16b-d2d9d4e2e420",
   "metadata": {},
   "outputs": [],
   "source": [
    "# function to extract Burmese content from a content url\n",
    "def content_scraper(content_url, soup):\n",
    "    burmese_content = \"\"\n",
    "    alphabets = ['a', 'b', 'c', 'd', 'e',\n",
    "                'f', 'g', 'h', 'i', 'j',\n",
    "                'k', 'l', 'm', 'n', 'o',\n",
    "                'p', 'q', 'r', 's', 't',\n",
    "                'u', 'v', 'w', 'x', 'y',\n",
    "                'z']\n",
    "    \n",
    "    symbols = [\"\\'\", \"(\", \")\"]\n",
    "    \n",
    "    for p_element in soup.find_all(\"p\"):\n",
    "        try: # None Type can cause error\n",
    "            content = p_element.string.strip()\n",
    "            for char in content:\n",
    "                if (char.lower() in alphabets) or (char in symbols): # do not add non-Burmese characters or symbols\n",
    "                    continue\n",
    "                burmese_content += char # add Burmese characters only\n",
    "        except:\n",
    "            pass\n",
    "    return burmese_content"
   ]
  },
  {
   "cell_type": "code",
   "execution_count": 5,
   "id": "07f0fcd7-678c-4f73-92bc-0e4bdfabe1d5",
   "metadata": {},
   "outputs": [],
   "source": [
    "# function to create lists for a page\n",
    "'''Lists are to be appended to original ones'''\n",
    "def list_append_per_page(news_headers_soup, datetime_soup):\n",
    "    news_headers_per_page = []\n",
    "    datetime_per_page = []\n",
    "    contents_per_page = []\n",
    "    \n",
    "    if len(news_headers_soup)==len(datetime_soup): # each header should have a corresponding date\n",
    "        \n",
    "        for i in range(len(news_headers_soup)): # get index of headers for one page\n",
    "    \n",
    "            # list 1 for multiple headers in a page\n",
    "            try: # for news headers without video tag # video tagged ones will cause errors\n",
    "                news_headers_per_page.append(news_headers_soup[i].string.strip()) # convert 'BeautifulSoup string' to 'Python string' # add content to list 1\n",
    "            except AttributeError: # # for news headers with video tag\n",
    "                '''list() is used to convert 'BeautifulSoup tag' object to 'list' to enable iteration'''\n",
    "                news_headers_per_page.append(list(news_headers_soup[i].span)[1].strip()) # convert 'BeautifulSoup string' to 'Python string' # add content to list 1\n",
    "    \n",
    "            # list 2 for date and time in a page\n",
    "            datetime_per_page.append(datetime_soup[i].string.strip()) # convert 'BeautifulSoup string' to 'Python string' # add content to list 2\n",
    "\n",
    "            # list 3 for contents of all headers in a page (contents of multiple headers)\n",
    "            content_url = news_headers_soup[i].attrs['href'] # get a link from 'n' element\n",
    "            content_soup = web_scraper(content_url) # pass the link to create a new soup\n",
    "            content_per_header = content_scraper(content_url, content_soup) # this new soup is used for content scraping\n",
    "            contents_per_page.append(content_per_header)\n",
    "        \n",
    "        if (len(news_headers_per_page)==len(news_headers_soup)) & (len(datetime_per_page)==len(datetime_soup)) & (len(contents_per_page)!=0): # if everything is added to two lists\n",
    "            return news_headers_per_page, datetime_per_page, contents_per_page"
   ]
  },
  {
   "cell_type": "markdown",
   "id": "e670cb95-746a-48ca-8fc8-b787ff759d24",
   "metadata": {},
   "source": [
    "## Functions for Scraping Multiple Pages"
   ]
  },
  {
   "cell_type": "code",
   "execution_count": 6,
   "id": "97c243d5-0f86-414d-be4f-bb3e5b8045c6",
   "metadata": {},
   "outputs": [],
   "source": [
    "# function to get next page url\n",
    "def navigate_next_page(soup):\n",
    "    next_page_soup = soup.find(\"a\", {\"aria-label\":\"next-page\", \"href\":True})\n",
    "    new_url = next_page_soup.attrs['href']\n",
    "    return new_url"
   ]
  },
  {
   "cell_type": "code",
   "execution_count": 7,
   "id": "65db3cce-63e1-4bb0-bdba-da531216412b",
   "metadata": {},
   "outputs": [],
   "source": [
    "# function to strip away unnecessary characters in a string\n",
    "def remove_chars(original_str, list_of_unwanted_chars):\n",
    "    new_str = \"\"\n",
    "    for digit in original_str:\n",
    "        if digit in list_of_unwanted_chars:\n",
    "            continue\n",
    "        new_str += digit\n",
    "    return new_str"
   ]
  },
  {
   "cell_type": "code",
   "execution_count": 8,
   "id": "60968ebf-9b88-4258-a038-37ae9a5371c3",
   "metadata": {},
   "outputs": [],
   "source": [
    "# function to get the last page index\n",
    "def get_max_page(soup):\n",
    "    last_page_soup = soup.find(\"a\", {\"class\":\"last\", \"href\":True})\n",
    "    last_page_index_string = last_page_soup.string.strip() # get something like 1,000\n",
    "    last_page_index_string = remove_chars(last_page_index_string, [',', '.', ';']) # strip away unwanted commas\n",
    "    last_page_index = int(last_page_index_string)\n",
    "    return last_page_index"
   ]
  },
  {
   "cell_type": "markdown",
   "id": "14f8dd75-965b-4857-9fe1-e99b70e6ef69",
   "metadata": {},
   "source": [
    "## Function for Excel"
   ]
  },
  {
   "cell_type": "code",
   "execution_count": 9,
   "id": "5685e57b-c194-4aea-9672-50e262148151",
   "metadata": {},
   "outputs": [],
   "source": [
    "# function to produce a spreadsheet\n",
    "def export_excel(first_list, second_list, third_list):\n",
    "    KT = {}\n",
    "    KT['News Header'] = first_list\n",
    "    KT['Time'] = second_list\n",
    "    KT['Content'] = third_list\n",
    "    df = pd.DataFrame({key:pd.Series(value) for key, value in KT.items()})\n",
    "    df.to_excel('KT_webscraped.xlsx', index=False)\n",
    "    return df"
   ]
  },
  {
   "cell_type": "markdown",
   "id": "2cd3f6f2-3ca2-4f60-85d7-3c440b05f03e",
   "metadata": {},
   "source": [
    "## Scraping Everything to Spreadsheet"
   ]
  },
  {
   "cell_type": "code",
   "execution_count": 10,
   "id": "20f0b6cf-de76-47d5-b989-1ff5150ee302",
   "metadata": {},
   "outputs": [],
   "source": [
    "# the main function\n",
    "def main(web_url):\n",
    "    news_headers = []\n",
    "    datetime = []\n",
    "    contents = []\n",
    "\n",
    "    # for the first page\n",
    "    complete_url = web_url # initial url\n",
    "    soup = web_scraper(complete_url) # get soup\n",
    "    last_page_index = get_max_page(soup) # get last page index\n",
    "    news_headers_soup, datetime_soup = soup_parser(soup) # get specific elements in a soup\n",
    "    print(\"Total pages:\", last_page_index)\n",
    "    \n",
    "    # extract data\n",
    "    news_headers_per_page, datetime_per_page, contents_per_page = list_append_per_page(news_headers_soup, datetime_soup)\n",
    "\n",
    "    # append data to lists\n",
    "    news_headers += news_headers_per_page\n",
    "    datetime += datetime_per_page\n",
    "    contents += contents_per_page\n",
    "\n",
    "    '''NOTE: There are too many pages so it is not efficient to uncomment this without the need.'''\n",
    "    # from the second page to the last page # insert last_page_index to scrape everything\n",
    "    for i in range(1): # scrape only the second page as an example\n",
    "        try:\n",
    "            print(complete_url)\n",
    "            complete_url = navigate_next_page(soup) # get next url\n",
    "            soup = web_scraper(complete_url) # get soup\n",
    "            news_headers_soup, datetime_soup = soup_parser(soup) # get specific elements in a soup\n",
    "\n",
    "            # extract data\n",
    "            news_headers_per_page, datetime_per_page, contents_per_page = list_append_per_page(news_headers_soup, datetime_soup)\n",
    "            \n",
    "            # append data to lists\n",
    "            news_headers += news_headers_per_page\n",
    "            datetime += datetime_per_page\n",
    "            contents += contents_per_page\n",
    "        \n",
    "        except AttributeError: # scraping the page after the last page will cause error\n",
    "            print(\"The end of the pages is reached.\")\n",
    "\n",
    "    return export_excel(news_headers, datetime, contents) # export the spreadsheet # return df"
   ]
  },
  {
   "cell_type": "code",
   "execution_count": 11,
   "id": "0bb14b9a-b183-4803-886f-6abf380c9c4c",
   "metadata": {},
   "outputs": [
    {
     "name": "stdout",
     "output_type": "stream",
     "text": [
      "Total pages: 1585\n",
      "https://yktnews.com/category/news/\n"
     ]
    }
   ],
   "source": [
    "link = \"https://yktnews.com/category/news/\"\n",
    "df = main(link)"
   ]
  },
  {
   "cell_type": "code",
   "execution_count": 12,
   "id": "f0f98881-5e1b-4024-a4ee-1bc90b0053bd",
   "metadata": {},
   "outputs": [
    {
     "data": {
      "text/html": [
       "<div>\n",
       "<style scoped>\n",
       "    .dataframe tbody tr th:only-of-type {\n",
       "        vertical-align: middle;\n",
       "    }\n",
       "\n",
       "    .dataframe tbody tr th {\n",
       "        vertical-align: top;\n",
       "    }\n",
       "\n",
       "    .dataframe thead th {\n",
       "        text-align: right;\n",
       "    }\n",
       "</style>\n",
       "<table border=\"1\" class=\"dataframe\">\n",
       "  <thead>\n",
       "    <tr style=\"text-align: right;\">\n",
       "      <th></th>\n",
       "      <th>News Header</th>\n",
       "      <th>Time</th>\n",
       "      <th>Content</th>\n",
       "    </tr>\n",
       "  </thead>\n",
       "  <tbody>\n",
       "    <tr>\n",
       "      <th>0</th>\n",
       "      <td>စစ်ကောင်စီက ယနေ့ နံနက်အစောပိုင်း လောက်ကိုင်မြိ...</td>\n",
       "      <td>July 24, 2024</td>\n",
       "      <td>စစ်ကောင်စီက ယနေ့ နံနက်အစောပိုင်း လောက်ကိုင်မြိ...</td>\n",
       "    </tr>\n",
       "    <tr>\n",
       "      <th>1</th>\n",
       "      <td>ဆားလင်းကြီးမြို့နယ်ရှိ စစ်ရှောင် ပြည်သူများကို...</td>\n",
       "      <td>July 24, 2024</td>\n",
       "      <td>ဆားလင်းကြီးမြို့နယ်ရှိ စစ်ရှောင် ပြည်သူများကို...</td>\n",
       "    </tr>\n",
       "    <tr>\n",
       "      <th>2</th>\n",
       "      <td>ပခုက္ကူမြို့တွင် KTV မှ ပြန်လာသော ဗိုလ်ကြီး ၁ ...</td>\n",
       "      <td>July 24, 2024</td>\n",
       "      <td>ပခုက္ကူမြို့တွင်  မှ ပြန်လာသော ဗိုလ်ကြီး ၁ ဦးက...</td>\n",
       "    </tr>\n",
       "    <tr>\n",
       "      <th>3</th>\n",
       "      <td>ထိုင်းနိုင်ငံ စမူပါကန် ဘောလုံးကွင်းတွင် နဂါးဖြ...</td>\n",
       "      <td>July 24, 2024</td>\n",
       "      <td>ထိုင်းနိုင်ငံ စမူပါကန် ဘောလုံးကွင်းတွင် နဂါးဖြ...</td>\n",
       "    </tr>\n",
       "    <tr>\n",
       "      <th>4</th>\n",
       "      <td>စစ်ကောင်စီနှင့် လက်အောက်ခံတပ်ဖွဲ့များက ၃ နှစ်က...</td>\n",
       "      <td>July 24, 2024</td>\n",
       "      <td>ရန်ကုန်| ဇူလိုင် ၂၄မြန်မာနိုင်ငံတွင် ၂၀၂၁ ခုနှ...</td>\n",
       "    </tr>\n",
       "    <tr>\n",
       "      <th>5</th>\n",
       "      <td>အကြမ်းဖက်စစ်ကောင်စီက ထင်ရှား လူသိများသော စီးပွ...</td>\n",
       "      <td>July 24, 2024</td>\n",
       "      <td>ရန်ကုန်၊ ဇူလိုင် ၂၄အကြမ်းဖက်စစ်ကောင်စီက ထင်ရှာ...</td>\n",
       "    </tr>\n",
       "    <tr>\n",
       "      <th>6</th>\n",
       "      <td>မလေးရှားနိုင်ငံသို့ တရားမဝင် သွားရောက် အလုပ်လု...</td>\n",
       "      <td>July 24, 2024</td>\n",
       "      <td>ရန်ကုန်၊ ဇူလိုင် ၂၄မလေးရှားနိုင်ငံသို့ သွားရော...</td>\n",
       "    </tr>\n",
       "    <tr>\n",
       "      <th>7</th>\n",
       "      <td>စဉ့်ကူးမြို့နယ်၊ ကျည်တောက်ပေါက်ရွာကို စစ်တပ်က ...</td>\n",
       "      <td>July 24, 2024</td>\n",
       "      <td>စဉ့်ကူးမြို့နယ်၊ ကျည်တောက်ပေါက်ရွာကို စစ်တပ်က ...</td>\n",
       "    </tr>\n",
       "    <tr>\n",
       "      <th>8</th>\n",
       "      <td>ဆားလင်းကြီးမြို့နယ်အတွင်းရှိ ရေဘေးသင့်ပြည်သူမျ...</td>\n",
       "      <td>July 24, 2024</td>\n",
       "      <td>ဆားလင်းကြီးမြို့နယ်အတွင်းရှိ ရေဘေးသင့်ပြည်သူမျ...</td>\n",
       "    </tr>\n",
       "    <tr>\n",
       "      <th>9</th>\n",
       "      <td>အမေရိကန်တစ်ဒေါ်လာ ငွေကျပ် ၅၀၀၀ ဝန်းကျင်သို့ ပြ...</td>\n",
       "      <td>July 24, 2024</td>\n",
       "      <td>ရန်ကုန်၊ ဇူလိုင် ၂၄မြန်မာနိုင်ငံ၏ ပြည်တွင်းစီး...</td>\n",
       "    </tr>\n",
       "    <tr>\n",
       "      <th>10</th>\n",
       "      <td>ယင်းမာပင်မြို့နယ်တွင် စစ်အာဏာရှင် ဆန့်ကျင်ရေး ...</td>\n",
       "      <td>July 24, 2024</td>\n",
       "      <td>ယင်းမာပင်မြို့နယ်တွင် စစ်အာဏာရှင် ဆန့်ကျင်ရေး ...</td>\n",
       "    </tr>\n",
       "    <tr>\n",
       "      <th>11</th>\n",
       "      <td>မိုးမိတ်မြို့ရှိ စစ်တပ် ဗျူဟာကုန်းကို TNLA က တ...</td>\n",
       "      <td>July 24, 2024</td>\n",
       "      <td>မိုးမိတ်မြို့ရှိ စစ်တပ် ဗျူဟာကုန်းကို  က တိုက်...</td>\n",
       "    </tr>\n",
       "    <tr>\n",
       "      <th>12</th>\n",
       "      <td>စစ်ကောင်စီက ယနေ့ နံနက်အစောပိုင်း လောက်ကိုင်မြိ...</td>\n",
       "      <td>July 24, 2024</td>\n",
       "      <td>စစ်ကောင်စီက ယနေ့ နံနက်အစောပိုင်း လောက်ကိုင်မြိ...</td>\n",
       "    </tr>\n",
       "    <tr>\n",
       "      <th>13</th>\n",
       "      <td>အောင်လံလွှင့်မည် ဒေါင်းသွေးနီ သပိတ်စစ်ကြောင်းက...</td>\n",
       "      <td>July 24, 2024</td>\n",
       "      <td>အောင်လံလွှင့်မည် ဒေါင်းသွေးနီ သပိတ်စစ်ကြောင်းက...</td>\n",
       "    </tr>\n",
       "    <tr>\n",
       "      <th>14</th>\n",
       "      <td>ဆားလင်းကြီးမြို့နယ်ရှိ စစ်ရှောင် ပြည်သူများကို...</td>\n",
       "      <td>July 24, 2024</td>\n",
       "      <td>ဆားလင်းကြီးမြို့နယ်ရှိ စစ်ရှောင် ပြည်သူများကို...</td>\n",
       "    </tr>\n",
       "    <tr>\n",
       "      <th>15</th>\n",
       "      <td>ယင်းမာပင်မြို့နယ်တွင် စစ်အာဏာရှင် ဆန့်ကျင်ရေး ...</td>\n",
       "      <td>July 24, 2024</td>\n",
       "      <td>ယင်းမာပင်မြို့နယ်တွင် စစ်အာဏာရှင် ဆန့်ကျင်ရေး ...</td>\n",
       "    </tr>\n",
       "    <tr>\n",
       "      <th>16</th>\n",
       "      <td>မိုးမိတ်မြို့ရှိ စစ်တပ် ဗျူဟာကုန်းကို TNLA က တ...</td>\n",
       "      <td>July 24, 2024</td>\n",
       "      <td>မိုးမိတ်မြို့ရှိ စစ်တပ် ဗျူဟာကုန်းကို  က တိုက်...</td>\n",
       "    </tr>\n",
       "    <tr>\n",
       "      <th>17</th>\n",
       "      <td>စစ်ကောင်စီတပ်က ပုဏ္ဏားကျွန်းမြို့နယ်ကို လက်နက်...</td>\n",
       "      <td>July 24, 2024</td>\n",
       "      <td>ရန်ကုန်| ဇူလိုင် ၂၄ရခိုင်ပြည်တွင် အာရက္ခတပ်တော...</td>\n",
       "    </tr>\n",
       "    <tr>\n",
       "      <th>18</th>\n",
       "      <td>ရခိုင်ရှိ Poscoကုမ္ပဏီရုံးသို့ စစ်တပ်က မကြာခဏ ...</td>\n",
       "      <td>July 24, 2024</td>\n",
       "      <td>ရန်ကုန်၊ ဇူလိုင် ၂၄အဆိုပါ ဖမ်းဆီးခံရသူများကို ...</td>\n",
       "    </tr>\n",
       "    <tr>\n",
       "      <th>19</th>\n",
       "      <td>ဗမာလွတ်မြောက်ရေးဒီမိုကရက်တစ်တပ်ဦး(BLDF) စစ်ဒေသ...</td>\n",
       "      <td>July 24, 2024</td>\n",
       "      <td>ရန်ကုန်၊ ဇူလိုင် ၂၄ဗမာလွတ်မြောက်ရေးဒီမိုကရက်တစ...</td>\n",
       "    </tr>\n",
       "    <tr>\n",
       "      <th>20</th>\n",
       "      <td>ရေနံချောင်းတွင် စစ်သားစုဆောင်းနေသော ရွာသစ်ရပ်က...</td>\n",
       "      <td>July 24, 2024</td>\n",
       "      <td>ရန်ကုန်၊ ဇူလိုင် ၂၄သေဆုံးသူ အုပ်ချုပ်ရေးမှူး သ...</td>\n",
       "    </tr>\n",
       "    <tr>\n",
       "      <th>21</th>\n",
       "      <td>၁၀၂၇ ဒုတိယလှိုင်း စစ်ဆင်ရေးတွင် ဗမာပြည်သူ့လွတ်...</td>\n",
       "      <td>July 24, 2024</td>\n",
       "      <td>ရန်ကုန်၊ ဇူလိုင် ၂၄၁၀၂၇ ဒုတိယလှိုင်း စစ်ဆင်ရေး...</td>\n",
       "    </tr>\n",
       "    <tr>\n",
       "      <th>22</th>\n",
       "      <td>လားရှိုးအခြေစိုက် စစ်ကောင်စီတပ်ရင်းများကို မြေ...</td>\n",
       "      <td>July 24, 2024</td>\n",
       "      <td>ရန်ကုန်၊ ဇူလိုင် ၂၄ယမန်နေ့တွင် ခလရ ၆၈ ၊ ခလရ ၄၁...</td>\n",
       "    </tr>\n",
       "    <tr>\n",
       "      <th>23</th>\n",
       "      <td>ရေဖြူမြိုပေါ်တွင် စစ်သားများ လိုက်ပါလာသည့် ကား...</td>\n",
       "      <td>July 24, 2024</td>\n",
       "      <td>ရန်ကုန်၊ ဇူလိုင် ၂၄ဇူလိုင်လ ၂၂ ရက်နေ့ ညနေ ၃ နာ...</td>\n",
       "    </tr>\n",
       "    <tr>\n",
       "      <th>24</th>\n",
       "      <td>စစ်ကိုင်း၊ မင်းကွန်းရွာတွင် ဈေးဝယ်ပြန်လာသည့် စ...</td>\n",
       "      <td>July 24, 2024</td>\n",
       "      <td>ရန်ကုန်၊ ဇူလိုင် ၂၄ယမန်နေ့ ဇူလိုင်လ ၂၃ ရက် နံန...</td>\n",
       "    </tr>\n",
       "    <tr>\n",
       "      <th>25</th>\n",
       "      <td>အုပ်ချုပ်ရေးယန္တရား ပြိုလဲနေသည့် ရခိုင်ပြည်တွင...</td>\n",
       "      <td>July 24, 2024</td>\n",
       "      <td>ရန်ကုန်၊ ဇူလိုင် ၂၄ရခိုင်ပြည်အတွင်း တပ်စခန်းမျ...</td>\n",
       "    </tr>\n",
       "    <tr>\n",
       "      <th>26</th>\n",
       "      <td>နောက်ပြန်မလှည့်ကြေး ဒီတော်လှန်ရေး လူထုသပိတ် စစ...</td>\n",
       "      <td>July 24, 2024</td>\n",
       "      <td>ရန်ကုန်၊ ဇူလိုင် ၂၄ယင်းမာပင်မြို့နယ်တွင် နောက်...</td>\n",
       "    </tr>\n",
       "    <tr>\n",
       "      <th>27</th>\n",
       "      <td>ယင်းမာပင်မြို့နယ်တွင် စစ်အာဏာရှင် ဆန့်ကျင်ရေး ...</td>\n",
       "      <td>July 24, 2024</td>\n",
       "      <td>ယင်းမာပင်မြို့နယ်တွင် စစ်အာဏာရှင် ဆန့်ကျင်ရေး ...</td>\n",
       "    </tr>\n",
       "    <tr>\n",
       "      <th>28</th>\n",
       "      <td>မိုးမိတ်မြို့ရှိ စစ်တပ် ဗျူဟာကုန်းကို TNLA က တ...</td>\n",
       "      <td>July 24, 2024</td>\n",
       "      <td>မိုးမိတ်မြို့ရှိ စစ်တပ် ဗျူဟာကုန်းကို  က တိုက်...</td>\n",
       "    </tr>\n",
       "    <tr>\n",
       "      <th>29</th>\n",
       "      <td>စစ်ကောင်စီက ယနေ့ နံနက်အစောပိုင်း လောက်ကိုင်မြိ...</td>\n",
       "      <td>July 24, 2024</td>\n",
       "      <td>စစ်ကောင်စီက ယနေ့ နံနက်အစောပိုင်း လောက်ကိုင်မြိ...</td>\n",
       "    </tr>\n",
       "    <tr>\n",
       "      <th>30</th>\n",
       "      <td>အောင်လံလွှင့်မည် ဒေါင်းသွေးနီ သပိတ်စစ်ကြောင်းက...</td>\n",
       "      <td>July 24, 2024</td>\n",
       "      <td>အောင်လံလွှင့်မည် ဒေါင်းသွေးနီ သပိတ်စစ်ကြောင်းက...</td>\n",
       "    </tr>\n",
       "    <tr>\n",
       "      <th>31</th>\n",
       "      <td>ဆားလင်းကြီးမြို့နယ်ရှိ စစ်ရှောင် ပြည်သူများကို...</td>\n",
       "      <td>July 24, 2024</td>\n",
       "      <td>ဆားလင်းကြီးမြို့နယ်ရှိ စစ်ရှောင် ပြည်သူများကို...</td>\n",
       "    </tr>\n",
       "    <tr>\n",
       "      <th>32</th>\n",
       "      <td>ယင်းမာပင်မြို့နယ်တွင် စစ်အာဏာရှင် ဆန့်ကျင်ရေး ...</td>\n",
       "      <td>July 24, 2024</td>\n",
       "      <td>ယင်းမာပင်မြို့နယ်တွင် စစ်အာဏာရှင် ဆန့်ကျင်ရေး ...</td>\n",
       "    </tr>\n",
       "    <tr>\n",
       "      <th>33</th>\n",
       "      <td>မိုးမိတ်မြို့ရှိ စစ်တပ် ဗျူဟာကုန်းကို TNLA က တ...</td>\n",
       "      <td>July 24, 2024</td>\n",
       "      <td>မိုးမိတ်မြို့ရှိ စစ်တပ် ဗျူဟာကုန်းကို  က တိုက်...</td>\n",
       "    </tr>\n",
       "  </tbody>\n",
       "</table>\n",
       "</div>"
      ],
      "text/plain": [
       "                                          News Header           Time  \\\n",
       "0   စစ်ကောင်စီက ယနေ့ နံနက်အစောပိုင်း လောက်ကိုင်မြိ...  July 24, 2024   \n",
       "1   ဆားလင်းကြီးမြို့နယ်ရှိ စစ်ရှောင် ပြည်သူများကို...  July 24, 2024   \n",
       "2   ပခုက္ကူမြို့တွင် KTV မှ ပြန်လာသော ဗိုလ်ကြီး ၁ ...  July 24, 2024   \n",
       "3   ထိုင်းနိုင်ငံ စမူပါကန် ဘောလုံးကွင်းတွင် နဂါးဖြ...  July 24, 2024   \n",
       "4   စစ်ကောင်စီနှင့် လက်အောက်ခံတပ်ဖွဲ့များက ၃ နှစ်က...  July 24, 2024   \n",
       "5   အကြမ်းဖက်စစ်ကောင်စီက ထင်ရှား လူသိများသော စီးပွ...  July 24, 2024   \n",
       "6   မလေးရှားနိုင်ငံသို့ တရားမဝင် သွားရောက် အလုပ်လု...  July 24, 2024   \n",
       "7   စဉ့်ကူးမြို့နယ်၊ ကျည်တောက်ပေါက်ရွာကို စစ်တပ်က ...  July 24, 2024   \n",
       "8   ဆားလင်းကြီးမြို့နယ်အတွင်းရှိ ရေဘေးသင့်ပြည်သူမျ...  July 24, 2024   \n",
       "9   အမေရိကန်တစ်ဒေါ်လာ ငွေကျပ် ၅၀၀၀ ဝန်းကျင်သို့ ပြ...  July 24, 2024   \n",
       "10  ယင်းမာပင်မြို့နယ်တွင် စစ်အာဏာရှင် ဆန့်ကျင်ရေး ...  July 24, 2024   \n",
       "11  မိုးမိတ်မြို့ရှိ စစ်တပ် ဗျူဟာကုန်းကို TNLA က တ...  July 24, 2024   \n",
       "12  စစ်ကောင်စီက ယနေ့ နံနက်အစောပိုင်း လောက်ကိုင်မြိ...  July 24, 2024   \n",
       "13  အောင်လံလွှင့်မည် ဒေါင်းသွေးနီ သပိတ်စစ်ကြောင်းက...  July 24, 2024   \n",
       "14  ဆားလင်းကြီးမြို့နယ်ရှိ စစ်ရှောင် ပြည်သူများကို...  July 24, 2024   \n",
       "15  ယင်းမာပင်မြို့နယ်တွင် စစ်အာဏာရှင် ဆန့်ကျင်ရေး ...  July 24, 2024   \n",
       "16  မိုးမိတ်မြို့ရှိ စစ်တပ် ဗျူဟာကုန်းကို TNLA က တ...  July 24, 2024   \n",
       "17  စစ်ကောင်စီတပ်က ပုဏ္ဏားကျွန်းမြို့နယ်ကို လက်နက်...  July 24, 2024   \n",
       "18  ရခိုင်ရှိ Poscoကုမ္ပဏီရုံးသို့ စစ်တပ်က မကြာခဏ ...  July 24, 2024   \n",
       "19  ဗမာလွတ်မြောက်ရေးဒီမိုကရက်တစ်တပ်ဦး(BLDF) စစ်ဒေသ...  July 24, 2024   \n",
       "20  ရေနံချောင်းတွင် စစ်သားစုဆောင်းနေသော ရွာသစ်ရပ်က...  July 24, 2024   \n",
       "21  ၁၀၂၇ ဒုတိယလှိုင်း စစ်ဆင်ရေးတွင် ဗမာပြည်သူ့လွတ်...  July 24, 2024   \n",
       "22  လားရှိုးအခြေစိုက် စစ်ကောင်စီတပ်ရင်းများကို မြေ...  July 24, 2024   \n",
       "23  ရေဖြူမြိုပေါ်တွင် စစ်သားများ လိုက်ပါလာသည့် ကား...  July 24, 2024   \n",
       "24  စစ်ကိုင်း၊ မင်းကွန်းရွာတွင် ဈေးဝယ်ပြန်လာသည့် စ...  July 24, 2024   \n",
       "25  အုပ်ချုပ်ရေးယန္တရား ပြိုလဲနေသည့် ရခိုင်ပြည်တွင...  July 24, 2024   \n",
       "26  နောက်ပြန်မလှည့်ကြေး ဒီတော်လှန်ရေး လူထုသပိတ် စစ...  July 24, 2024   \n",
       "27  ယင်းမာပင်မြို့နယ်တွင် စစ်အာဏာရှင် ဆန့်ကျင်ရေး ...  July 24, 2024   \n",
       "28  မိုးမိတ်မြို့ရှိ စစ်တပ် ဗျူဟာကုန်းကို TNLA က တ...  July 24, 2024   \n",
       "29  စစ်ကောင်စီက ယနေ့ နံနက်အစောပိုင်း လောက်ကိုင်မြိ...  July 24, 2024   \n",
       "30  အောင်လံလွှင့်မည် ဒေါင်းသွေးနီ သပိတ်စစ်ကြောင်းက...  July 24, 2024   \n",
       "31  ဆားလင်းကြီးမြို့နယ်ရှိ စစ်ရှောင် ပြည်သူများကို...  July 24, 2024   \n",
       "32  ယင်းမာပင်မြို့နယ်တွင် စစ်အာဏာရှင် ဆန့်ကျင်ရေး ...  July 24, 2024   \n",
       "33  မိုးမိတ်မြို့ရှိ စစ်တပ် ဗျူဟာကုန်းကို TNLA က တ...  July 24, 2024   \n",
       "\n",
       "                                              Content  \n",
       "0   စစ်ကောင်စီက ယနေ့ နံနက်အစောပိုင်း လောက်ကိုင်မြိ...  \n",
       "1   ဆားလင်းကြီးမြို့နယ်ရှိ စစ်ရှောင် ပြည်သူများကို...  \n",
       "2   ပခုက္ကူမြို့တွင်  မှ ပြန်လာသော ဗိုလ်ကြီး ၁ ဦးက...  \n",
       "3   ထိုင်းနိုင်ငံ စမူပါကန် ဘောလုံးကွင်းတွင် နဂါးဖြ...  \n",
       "4   ရန်ကုန်| ဇူလိုင် ၂၄မြန်မာနိုင်ငံတွင် ၂၀၂၁ ခုနှ...  \n",
       "5   ရန်ကုန်၊ ဇူလိုင် ၂၄အကြမ်းဖက်စစ်ကောင်စီက ထင်ရှာ...  \n",
       "6   ရန်ကုန်၊ ဇူလိုင် ၂၄မလေးရှားနိုင်ငံသို့ သွားရော...  \n",
       "7   စဉ့်ကူးမြို့နယ်၊ ကျည်တောက်ပေါက်ရွာကို စစ်တပ်က ...  \n",
       "8   ဆားလင်းကြီးမြို့နယ်အတွင်းရှိ ရေဘေးသင့်ပြည်သူမျ...  \n",
       "9   ရန်ကုန်၊ ဇူလိုင် ၂၄မြန်မာနိုင်ငံ၏ ပြည်တွင်းစီး...  \n",
       "10  ယင်းမာပင်မြို့နယ်တွင် စစ်အာဏာရှင် ဆန့်ကျင်ရေး ...  \n",
       "11  မိုးမိတ်မြို့ရှိ စစ်တပ် ဗျူဟာကုန်းကို  က တိုက်...  \n",
       "12  စစ်ကောင်စီက ယနေ့ နံနက်အစောပိုင်း လောက်ကိုင်မြိ...  \n",
       "13  အောင်လံလွှင့်မည် ဒေါင်းသွေးနီ သပိတ်စစ်ကြောင်းက...  \n",
       "14  ဆားလင်းကြီးမြို့နယ်ရှိ စစ်ရှောင် ပြည်သူများကို...  \n",
       "15  ယင်းမာပင်မြို့နယ်တွင် စစ်အာဏာရှင် ဆန့်ကျင်ရေး ...  \n",
       "16  မိုးမိတ်မြို့ရှိ စစ်တပ် ဗျူဟာကုန်းကို  က တိုက်...  \n",
       "17  ရန်ကုန်| ဇူလိုင် ၂၄ရခိုင်ပြည်တွင် အာရက္ခတပ်တော...  \n",
       "18  ရန်ကုန်၊ ဇူလိုင် ၂၄အဆိုပါ ဖမ်းဆီးခံရသူများကို ...  \n",
       "19  ရန်ကုန်၊ ဇူလိုင် ၂၄ဗမာလွတ်မြောက်ရေးဒီမိုကရက်တစ...  \n",
       "20  ရန်ကုန်၊ ဇူလိုင် ၂၄သေဆုံးသူ အုပ်ချုပ်ရေးမှူး သ...  \n",
       "21  ရန်ကုန်၊ ဇူလိုင် ၂၄၁၀၂၇ ဒုတိယလှိုင်း စစ်ဆင်ရေး...  \n",
       "22  ရန်ကုန်၊ ဇူလိုင် ၂၄ယမန်နေ့တွင် ခလရ ၆၈ ၊ ခလရ ၄၁...  \n",
       "23  ရန်ကုန်၊ ဇူလိုင် ၂၄ဇူလိုင်လ ၂၂ ရက်နေ့ ညနေ ၃ နာ...  \n",
       "24  ရန်ကုန်၊ ဇူလိုင် ၂၄ယမန်နေ့ ဇူလိုင်လ ၂၃ ရက် နံန...  \n",
       "25  ရန်ကုန်၊ ဇူလိုင် ၂၄ရခိုင်ပြည်အတွင်း တပ်စခန်းမျ...  \n",
       "26  ရန်ကုန်၊ ဇူလိုင် ၂၄ယင်းမာပင်မြို့နယ်တွင် နောက်...  \n",
       "27  ယင်းမာပင်မြို့နယ်တွင် စစ်အာဏာရှင် ဆန့်ကျင်ရေး ...  \n",
       "28  မိုးမိတ်မြို့ရှိ စစ်တပ် ဗျူဟာကုန်းကို  က တိုက်...  \n",
       "29  စစ်ကောင်စီက ယနေ့ နံနက်အစောပိုင်း လောက်ကိုင်မြိ...  \n",
       "30  အောင်လံလွှင့်မည် ဒေါင်းသွေးနီ သပိတ်စစ်ကြောင်းက...  \n",
       "31  ဆားလင်းကြီးမြို့နယ်ရှိ စစ်ရှောင် ပြည်သူများကို...  \n",
       "32  ယင်းမာပင်မြို့နယ်တွင် စစ်အာဏာရှင် ဆန့်ကျင်ရေး ...  \n",
       "33  မိုးမိတ်မြို့ရှိ စစ်တပ် ဗျူဟာကုန်းကို  က တိုက်...  "
      ]
     },
     "execution_count": 12,
     "metadata": {},
     "output_type": "execute_result"
    }
   ],
   "source": [
    "df"
   ]
  },
  {
   "cell_type": "markdown",
   "id": "77f170c9-ec38-4a32-8bd7-a41e85a7d0c4",
   "metadata": {},
   "source": [
    "## Duplicates?!??\n",
    "The DataFrame contains duplicate entries. To eradicate this, we can update our `soup_parser()` function. To do that, we have to experiment and inspect elements."
   ]
  },
  {
   "cell_type": "code",
   "execution_count": 13,
   "id": "cae4bb90-7bb7-4d63-8f14-d5a825fc06be",
   "metadata": {},
   "outputs": [
    {
     "data": {
      "text/plain": [
       "2"
      ]
     },
     "execution_count": 13,
     "metadata": {},
     "output_type": "execute_result"
    }
   ],
   "source": [
    "# what does old soup_parser produces?\n",
    "s = web_scraper(link)\n",
    "old_parser_result = soup_parser(s)\n",
    "len(old_parser_result) # check total indexes"
   ]
  },
  {
   "cell_type": "code",
   "execution_count": 14,
   "id": "6e37c84e-7d46-4cdf-8414-dc4797fdcb09",
   "metadata": {},
   "outputs": [
    {
     "name": "stdout",
     "output_type": "stream",
     "text": [
      "<a href=\"https://yktnews.com/2024/07/175459/\" rel=\"bookmark\" title=\"စစ်ကောင်စီက ယနေ့ နံနက်အစောပိုင်း လောက်ကိုင်မြို့ကို တတိယအကြိမ်မြောက် လေယာဉ်ဖြင့် ဗုံးကျဲမှု အရပ်သား ၂ ဦး ထိခိုက်ဒဏ်ရာရ\">စစ်ကောင်စီက ယနေ့ နံနက်အစောပိုင်း လောက်ကိုင်မြို့ကို တတိယအကြိမ်မြောက် လေယာဉ်ဖြင့် ဗုံးကျဲမှု အရပ်သား ၂ ဦး ထိခိုက်ဒဏ်ရာရ</a>\n",
      "<a href=\"https://yktnews.com/2024/07/175464/\" rel=\"bookmark\" title=\"မိုးမိတ်မြို့ရှိ စစ်တပ် ဗျူဟာကုန်းကို TNLA က တိုက်ခိုက်နေပြီး နောင်ချိုမြို့နယ်တွင်လည်း တိုက်ပွဲများ ဆက်လက် ပြင်းထန်နေ\">မိုးမိတ်မြို့ရှိ စစ်တပ် ဗျူဟာကုန်းကို TNLA က တိုက်ခိုက်နေပြီး နောင်ချိုမြို့နယ်တွင်လည်း တိုက်ပွဲများ ဆက်လက် ပြင်းထန်နေ</a>\n"
     ]
    }
   ],
   "source": [
    "# check elements\n",
    "print(old_parser_result[0][0])\n",
    "print(old_parser_result[0][-1])"
   ]
  },
  {
   "cell_type": "markdown",
   "id": "da8a5757-c043-4fe8-8c12-39ff2503a300",
   "metadata": {
    "jp-MarkdownHeadingCollapsed": true
   },
   "source": [
    "We can see that there is no significant difference. Let's inspect their parents."
   ]
  },
  {
   "cell_type": "code",
   "execution_count": 15,
   "id": "9e796699-0cb4-46eb-8998-69cd7dca9501",
   "metadata": {},
   "outputs": [
    {
     "name": "stdout",
     "output_type": "stream",
     "text": [
      "<p class=\"entry-title td-module-title\"><a href=\"https://yktnews.com/2024/07/175459/\" rel=\"bookmark\" title=\"စစ်ကောင်စီက ယနေ့ နံနက်အစောပိုင်း လောက်ကိုင်မြို့ကို တတိယအကြိမ်မြောက် လေယာဉ်ဖြင့် ဗုံးကျဲမှု အရပ်သား ၂ ဦး ထိခိုက်ဒဏ်ရာရ\">စစ်ကောင်စီက ယနေ့ နံနက်အစောပိုင်း လောက်ကိုင်မြို့ကို တတိယအကြိမ်မြောက် လေယာဉ်ဖြင့် ဗုံးကျဲမှု အရပ်သား ၂ ဦး ထိခိုက်ဒဏ်ရာရ</a></p>\n",
      "<h3 class=\"entry-title td-module-title\"><a href=\"https://yktnews.com/2024/07/175464/\" rel=\"bookmark\" title=\"မိုးမိတ်မြို့ရှိ စစ်တပ် ဗျူဟာကုန်းကို TNLA က တိုက်ခိုက်နေပြီး နောင်ချိုမြို့နယ်တွင်လည်း တိုက်ပွဲများ ဆက်လက် ပြင်းထန်နေ\">မိုးမိတ်မြို့ရှိ စစ်တပ် ဗျူဟာကုန်းကို TNLA က တိုက်ခိုက်နေပြီး နောင်ချိုမြို့နယ်တွင်လည်း တိုက်ပွဲများ ဆက်လက် ပြင်းထန်နေ</a></h3>\n"
     ]
    }
   ],
   "source": [
    "# check elements' parents\n",
    "print(old_parser_result[0][0].parent)\n",
    "print(old_parser_result[0][-1].parent)"
   ]
  },
  {
   "cell_type": "markdown",
   "id": "74069e22-3f11-485e-b649-afd3eececfeb",
   "metadata": {},
   "source": [
    "### 1. First Insight into <i>soup_parser()</i>\n",
    "Now, we can see that they are of difference HTML tags. If we inspect the original website, we would find that our news are written in `<p>` tags. Other tags are used for recommended news. So, we will choose only `<p>` elements for our `news headers`."
   ]
  },
  {
   "cell_type": "markdown",
   "id": "5f5bd07e-9ff8-483d-ab87-ab7fd749630d",
   "metadata": {},
   "source": [
    "### 2. Second Insight into <i>soup_parser()</i>\n",
    "Recall that `datetime` is mapped to the titles (news headers). If we remove certain elements from `news headers`, we must also delete the corresponding entries."
   ]
  },
  {
   "cell_type": "code",
   "execution_count": 16,
   "id": "052ab422-5dd9-46fe-affa-757f3c2a2f87",
   "metadata": {},
   "outputs": [
    {
     "name": "stdout",
     "output_type": "stream",
     "text": [
      "<time class=\"entry-date updated td-module-date\" datetime=\"2024-07-24T20:57:17+07:00\">July 24, 2024</time>\n",
      "<time class=\"entry-date updated td-module-date\" datetime=\"2024-07-24T20:59:41+07:00\">July 24, 2024</time>\n"
     ]
    }
   ],
   "source": [
    "# check elements' time\n",
    "print(old_parser_result[1][0])\n",
    "print(old_parser_result[1][-1])"
   ]
  },
  {
   "cell_type": "code",
   "execution_count": 17,
   "id": "c3eb9aaa-e71d-4ff4-9325-41b2fa40fd30",
   "metadata": {},
   "outputs": [
    {
     "name": "stdout",
     "output_type": "stream",
     "text": [
      "<span class=\"td-post-date\"><time class=\"entry-date updated td-module-date\" datetime=\"2024-07-24T20:57:17+07:00\">July 24, 2024</time></span>\n",
      "<span class=\"td-post-date\"><time class=\"entry-date updated td-module-date\" datetime=\"2024-07-24T20:59:41+07:00\">July 24, 2024</time></span>\n"
     ]
    }
   ],
   "source": [
    "# check elements' time's parents\n",
    "print(old_parser_result[1][0].parent)\n",
    "print(old_parser_result[1][-1].parent)"
   ]
  },
  {
   "cell_type": "markdown",
   "id": "d07da463-718f-4a5c-a130-9ca5bbbbc072",
   "metadata": {},
   "source": [
    "We cannot easily spot their differences like we did it in above. So, we keep searching a thing to distinguish."
   ]
  },
  {
   "cell_type": "code",
   "execution_count": 18,
   "id": "40097189-e68d-4dac-a53e-7e876a786a64",
   "metadata": {},
   "outputs": [
    {
     "name": "stdout",
     "output_type": "stream",
     "text": [
      "<span class=\"td-author-date\">\n",
      "<span class=\"td-post-author-name\"><a href=\"https://yktnews.com/author/phyowaisoeyktnews-com/\">Yangon Khit Thit News Agency</a> <span>-</span> </span>                                    <span class=\"td-post-date\"><time class=\"entry-date updated td-module-date\" datetime=\"2024-07-24T20:57:17+07:00\">July 24, 2024</time></span>                                                                                                        </span>\n",
      "<span class=\"td-author-date\">\n",
      "<span class=\"td-post-date\"><time class=\"entry-date updated td-module-date\" datetime=\"2024-07-24T20:59:41+07:00\">July 24, 2024</time></span>                                                                                                        </span>\n"
     ]
    }
   ],
   "source": [
    "# check its parent\n",
    "print(old_parser_result[1][0].parent.parent)\n",
    "print(old_parser_result[1][-1].parent.parent)"
   ]
  },
  {
   "cell_type": "code",
   "execution_count": 19,
   "id": "cfbcc82b-54ea-4450-b602-c381bb9816fc",
   "metadata": {},
   "outputs": [
    {
     "name": "stdout",
     "output_type": "stream",
     "text": [
      "<div class=\"td-editor-date\">\n",
      "<span class=\"td-author-date\">\n",
      "<span class=\"td-post-author-name\"><a href=\"https://yktnews.com/author/phyowaisoeyktnews-com/\">Yangon Khit Thit News Agency</a> <span>-</span> </span>                                    <span class=\"td-post-date\"><time class=\"entry-date updated td-module-date\" datetime=\"2024-07-24T20:57:17+07:00\">July 24, 2024</time></span>                                                                                                        </span>\n",
      "</div>\n",
      "<div class=\"td-editor-date\">\n",
      "<span class=\"td-author-date\">\n",
      "<span class=\"td-post-date\"><time class=\"entry-date updated td-module-date\" datetime=\"2024-07-24T20:59:41+07:00\">July 24, 2024</time></span>                                                                                                        </span>\n",
      "</div>\n"
     ]
    }
   ],
   "source": [
    "# check its parent\n",
    "print(old_parser_result[1][0].parent.parent.parent)\n",
    "print(old_parser_result[1][-1].parent.parent.parent)"
   ]
  },
  {
   "cell_type": "code",
   "execution_count": 20,
   "id": "b74ff39d-10fb-40cb-9e6c-159acc4ffdc5",
   "metadata": {},
   "outputs": [
    {
     "name": "stdout",
     "output_type": "stream",
     "text": [
      "<div class=\"td-module-meta-info\">\n",
      "<p class=\"entry-title td-module-title\"><a href=\"https://yktnews.com/2024/07/175459/\" rel=\"bookmark\" title=\"စစ်ကောင်စီက ယနေ့ နံနက်အစောပိုင်း လောက်ကိုင်မြို့ကို တတိယအကြိမ်မြောက် လေယာဉ်ဖြင့် ဗုံးကျဲမှု အရပ်သား ၂ ဦး ထိခိုက်ဒဏ်ရာရ\">စစ်ကောင်စီက ယနေ့ နံနက်အစောပိုင်း လောက်ကိုင်မြို့ကို တတိယအကြိမ်မြောက် လေယာဉ်ဖြင့် ဗုံးကျဲမှု အရပ်သား ၂ ဦး ထိခိုက်ဒဏ်ရာရ</a></p>\n",
      "<div class=\"td-editor-date\">\n",
      "<span class=\"td-author-date\">\n",
      "<span class=\"td-post-author-name\"><a href=\"https://yktnews.com/author/phyowaisoeyktnews-com/\">Yangon Khit Thit News Agency</a> <span>-</span> </span>                                    <span class=\"td-post-date\"><time class=\"entry-date updated td-module-date\" datetime=\"2024-07-24T20:57:17+07:00\">July 24, 2024</time></span>                                                                                                        </span>\n",
      "</div>\n",
      "<div class=\"td-excerpt\">\n",
      "စစ်ကောင်စီက ယနေ့ နံနက်အစောပိုင်း လောက်ကိုင်မြို့ကို တတိယအကြိမ်မြောက် လေယာဉ်ဖြင့် ဗုံးကျဲမှု အရပ်သား ၂ ဦး ထိခိုက်ဒဏ်ရာရ\n",
      "■ လောက်ကိုင်မြို့ကို စစ်တပ်၏ လေယာဉ်ဖြင့် ဗုံးကျဲမှု ၃ ကြိမ်တွင် ပြည်သူ ၃ ဦးသေဆုံးခဲ့\n",
      "ရန်ကုန်၊ ဇူလိုင် ၂၄\n",
      "အကြမ်းဖက်စစ်ကောင်စီက ယနေ့နံနက်ပိုင်း လောက်ကိုင်မြို့ကို...</div>\n",
      "</div>\n",
      "<div class=\"td-module-meta-info\">\n",
      "<h3 class=\"entry-title td-module-title\"><a href=\"https://yktnews.com/2024/07/175464/\" rel=\"bookmark\" title=\"မိုးမိတ်မြို့ရှိ စစ်တပ် ဗျူဟာကုန်းကို TNLA က တိုက်ခိုက်နေပြီး နောင်ချိုမြို့နယ်တွင်လည်း တိုက်ပွဲများ ဆက်လက် ပြင်းထန်နေ\">မိုးမိတ်မြို့ရှိ စစ်တပ် ဗျူဟာကုန်းကို TNLA က တိုက်ခိုက်နေပြီး နောင်ချိုမြို့နယ်တွင်လည်း တိုက်ပွဲများ ဆက်လက် ပြင်းထန်နေ</a></h3>\n",
      "<div class=\"td-editor-date\">\n",
      "<span class=\"td-author-date\">\n",
      "<span class=\"td-post-date\"><time class=\"entry-date updated td-module-date\" datetime=\"2024-07-24T20:59:41+07:00\">July 24, 2024</time></span>                                                                                                        </span>\n",
      "</div>\n",
      "</div>\n"
     ]
    }
   ],
   "source": [
    "# check its parent\n",
    "print(old_parser_result[1][0].parent.parent.parent.parent)\n",
    "print(old_parser_result[1][-1].parent.parent.parent.parent)"
   ]
  },
  {
   "cell_type": "markdown",
   "id": "de540228-be90-4e6c-8ed6-543885f5d020",
   "metadata": {},
   "source": [
    "### 3. Third Insight into <i>soup_parser()</i>\n",
    "Now that we can highlight a unique distinguishment (`<p>` and `<h3>` in this case), we are going to use it to remove corresponding entries of `datetime`."
   ]
  },
  {
   "cell_type": "code",
   "execution_count": 21,
   "id": "eb738cef-5947-4165-a386-58a0e6b32141",
   "metadata": {},
   "outputs": [
    {
     "name": "stdout",
     "output_type": "stream",
     "text": [
      "p\n",
      "h3\n"
     ]
    }
   ],
   "source": [
    "# get a property to make conditionals\n",
    "print(old_parser_result[1][0].parent.parent.parent.parent.contents[1].name)\n",
    "print(old_parser_result[1][-1].parent.parent.parent.parent.contents[1].name)"
   ]
  },
  {
   "cell_type": "markdown",
   "id": "73be6f99-26e4-4054-83a4-ae3b2bbfbf23",
   "metadata": {},
   "source": [
    "## Scraping Everything with Duplicates Filtered"
   ]
  },
  {
   "cell_type": "code",
   "execution_count": 22,
   "id": "4dd455f3-869c-4824-8097-c59e4da092f9",
   "metadata": {},
   "outputs": [],
   "source": [
    "# redefine function to get specific elements within a soup\n",
    "def soup_parser(soup):\n",
    "    news_headers_soup = soup.find_all(\"a\", {\"class\":None, \"rel\":\"bookmark\"})\n",
    "    datetime_soup = soup.find_all(\"time\")\n",
    "    \n",
    "    '''The soup contain elements of the Editor Picks and the Latest News which are redundant information, sometimes making duplicate entries.'''\n",
    "    # removing specific elements mentioned above\n",
    "    for a_element in news_headers_soup:\n",
    "        if a_element.parent.name == 'p': # check its parent # 'p' is desired # 'h3' for example is not desired\n",
    "            continue\n",
    "        news_headers_soup.remove(a_element) # remove unwanted entries\n",
    "    for t_element in datetime_soup:\n",
    "        if t_element.parent.parent.parent.parent.contents[1].name == 'p':\n",
    "            continue\n",
    "        datetime_soup.remove(t_element)\n",
    "    # uncomment above code block if you want to scrape everything\n",
    "\n",
    "    if len(news_headers_soup) != len(datetime_soup):\n",
    "        raise Exception(\"Failed to map Titles to Dates.\") # debugging line\n",
    "    return news_headers_soup, datetime_soup"
   ]
  },
  {
   "cell_type": "code",
   "execution_count": 23,
   "id": "f2fd204d-8178-43f0-881e-37ce18676d85",
   "metadata": {},
   "outputs": [
    {
     "name": "stdout",
     "output_type": "stream",
     "text": [
      "Total pages: 1585\n",
      "https://yktnews.com/category/news/\n"
     ]
    }
   ],
   "source": [
    "link = \"https://yktnews.com/category/news/\"\n",
    "df = main(link)"
   ]
  },
  {
   "cell_type": "code",
   "execution_count": 24,
   "id": "16da49de-2c94-442f-9bb7-08e8cb3bc80e",
   "metadata": {},
   "outputs": [
    {
     "data": {
      "text/html": [
       "<div>\n",
       "<style scoped>\n",
       "    .dataframe tbody tr th:only-of-type {\n",
       "        vertical-align: middle;\n",
       "    }\n",
       "\n",
       "    .dataframe tbody tr th {\n",
       "        vertical-align: top;\n",
       "    }\n",
       "\n",
       "    .dataframe thead th {\n",
       "        text-align: right;\n",
       "    }\n",
       "</style>\n",
       "<table border=\"1\" class=\"dataframe\">\n",
       "  <thead>\n",
       "    <tr style=\"text-align: right;\">\n",
       "      <th></th>\n",
       "      <th>News Header</th>\n",
       "      <th>Time</th>\n",
       "      <th>Content</th>\n",
       "    </tr>\n",
       "  </thead>\n",
       "  <tbody>\n",
       "    <tr>\n",
       "      <th>0</th>\n",
       "      <td>ပခုက္ကူမြို့တွင် KTV မှ ပြန်လာသော ဗိုလ်ကြီး ၁ ...</td>\n",
       "      <td>July 24, 2024</td>\n",
       "      <td>ပခုက္ကူမြို့တွင်  မှ ပြန်လာသော ဗိုလ်ကြီး ၁ ဦးက...</td>\n",
       "    </tr>\n",
       "    <tr>\n",
       "      <th>1</th>\n",
       "      <td>ထိုင်းနိုင်ငံ စမူပါကန် ဘောလုံးကွင်းတွင် နဂါးဖြ...</td>\n",
       "      <td>July 24, 2024</td>\n",
       "      <td>ထိုင်းနိုင်ငံ စမူပါကန် ဘောလုံးကွင်းတွင် နဂါးဖြ...</td>\n",
       "    </tr>\n",
       "    <tr>\n",
       "      <th>2</th>\n",
       "      <td>စစ်ကောင်စီနှင့် လက်အောက်ခံတပ်ဖွဲ့များက ၃ နှစ်က...</td>\n",
       "      <td>July 24, 2024</td>\n",
       "      <td>ရန်ကုန်| ဇူလိုင် ၂၄မြန်မာနိုင်ငံတွင် ၂၀၂၁ ခုနှ...</td>\n",
       "    </tr>\n",
       "    <tr>\n",
       "      <th>3</th>\n",
       "      <td>အကြမ်းဖက်စစ်ကောင်စီက ထင်ရှား လူသိများသော စီးပွ...</td>\n",
       "      <td>July 24, 2024</td>\n",
       "      <td>ရန်ကုန်၊ ဇူလိုင် ၂၄အကြမ်းဖက်စစ်ကောင်စီက ထင်ရှာ...</td>\n",
       "    </tr>\n",
       "    <tr>\n",
       "      <th>4</th>\n",
       "      <td>မလေးရှားနိုင်ငံသို့ တရားမဝင် သွားရောက် အလုပ်လု...</td>\n",
       "      <td>July 24, 2024</td>\n",
       "      <td>ရန်ကုန်၊ ဇူလိုင် ၂၄မလေးရှားနိုင်ငံသို့ သွားရော...</td>\n",
       "    </tr>\n",
       "    <tr>\n",
       "      <th>5</th>\n",
       "      <td>စဉ့်ကူးမြို့နယ်၊ ကျည်တောက်ပေါက်ရွာကို စစ်တပ်က ...</td>\n",
       "      <td>July 24, 2024</td>\n",
       "      <td>စဉ့်ကူးမြို့နယ်၊ ကျည်တောက်ပေါက်ရွာကို စစ်တပ်က ...</td>\n",
       "    </tr>\n",
       "    <tr>\n",
       "      <th>6</th>\n",
       "      <td>ဆားလင်းကြီးမြို့နယ်အတွင်းရှိ ရေဘေးသင့်ပြည်သူမျ...</td>\n",
       "      <td>July 24, 2024</td>\n",
       "      <td>ဆားလင်းကြီးမြို့နယ်အတွင်းရှိ ရေဘေးသင့်ပြည်သူမျ...</td>\n",
       "    </tr>\n",
       "    <tr>\n",
       "      <th>7</th>\n",
       "      <td>အမေရိကန်တစ်ဒေါ်လာ ငွေကျပ် ၅၀၀၀ ဝန်းကျင်သို့ ပြ...</td>\n",
       "      <td>July 24, 2024</td>\n",
       "      <td>ရန်ကုန်၊ ဇူလိုင် ၂၄မြန်မာနိုင်ငံ၏ ပြည်တွင်းစီး...</td>\n",
       "    </tr>\n",
       "    <tr>\n",
       "      <th>8</th>\n",
       "      <td>စစ်ကောင်စီက ယနေ့ နံနက်အစောပိုင်း လောက်ကိုင်မြိ...</td>\n",
       "      <td>July 24, 2024</td>\n",
       "      <td>စစ်ကောင်စီက ယနေ့ နံနက်အစောပိုင်း လောက်ကိုင်မြိ...</td>\n",
       "    </tr>\n",
       "    <tr>\n",
       "      <th>9</th>\n",
       "      <td>အောင်လံလွှင့်မည် ဒေါင်းသွေးနီ သပိတ်စစ်ကြောင်းက...</td>\n",
       "      <td>July 24, 2024</td>\n",
       "      <td>အောင်လံလွှင့်မည် ဒေါင်းသွေးနီ သပိတ်စစ်ကြောင်းက...</td>\n",
       "    </tr>\n",
       "    <tr>\n",
       "      <th>10</th>\n",
       "      <td>ဆားလင်းကြီးမြို့နယ်ရှိ စစ်ရှောင် ပြည်သူများကို...</td>\n",
       "      <td>July 24, 2024</td>\n",
       "      <td>ဆားလင်းကြီးမြို့နယ်ရှိ စစ်ရှောင် ပြည်သူများကို...</td>\n",
       "    </tr>\n",
       "    <tr>\n",
       "      <th>11</th>\n",
       "      <td>ယင်းမာပင်မြို့နယ်တွင် စစ်အာဏာရှင် ဆန့်ကျင်ရေး ...</td>\n",
       "      <td>July 24, 2024</td>\n",
       "      <td>ယင်းမာပင်မြို့နယ်တွင် စစ်အာဏာရှင် ဆန့်ကျင်ရေး ...</td>\n",
       "    </tr>\n",
       "    <tr>\n",
       "      <th>12</th>\n",
       "      <td>မိုးမိတ်မြို့ရှိ စစ်တပ် ဗျူဟာကုန်းကို TNLA က တ...</td>\n",
       "      <td>July 24, 2024</td>\n",
       "      <td>မိုးမိတ်မြို့ရှိ စစ်တပ် ဗျူဟာကုန်းကို  က တိုက်...</td>\n",
       "    </tr>\n",
       "    <tr>\n",
       "      <th>13</th>\n",
       "      <td>စစ်ကောင်စီတပ်က ပုဏ္ဏားကျွန်းမြို့နယ်ကို လက်နက်...</td>\n",
       "      <td>July 24, 2024</td>\n",
       "      <td>ရန်ကုန်| ဇူလိုင် ၂၄ရခိုင်ပြည်တွင် အာရက္ခတပ်တော...</td>\n",
       "    </tr>\n",
       "    <tr>\n",
       "      <th>14</th>\n",
       "      <td>ရခိုင်ရှိ Poscoကုမ္ပဏီရုံးသို့ စစ်တပ်က မကြာခဏ ...</td>\n",
       "      <td>July 24, 2024</td>\n",
       "      <td>ရန်ကုန်၊ ဇူလိုင် ၂၄အဆိုပါ ဖမ်းဆီးခံရသူများကို ...</td>\n",
       "    </tr>\n",
       "    <tr>\n",
       "      <th>15</th>\n",
       "      <td>ဗမာလွတ်မြောက်ရေးဒီမိုကရက်တစ်တပ်ဦး(BLDF) စစ်ဒေသ...</td>\n",
       "      <td>July 24, 2024</td>\n",
       "      <td>ရန်ကုန်၊ ဇူလိုင် ၂၄ဗမာလွတ်မြောက်ရေးဒီမိုကရက်တစ...</td>\n",
       "    </tr>\n",
       "    <tr>\n",
       "      <th>16</th>\n",
       "      <td>ရေနံချောင်းတွင် စစ်သားစုဆောင်းနေသော ရွာသစ်ရပ်က...</td>\n",
       "      <td>July 24, 2024</td>\n",
       "      <td>ရန်ကုန်၊ ဇူလိုင် ၂၄သေဆုံးသူ အုပ်ချုပ်ရေးမှူး သ...</td>\n",
       "    </tr>\n",
       "    <tr>\n",
       "      <th>17</th>\n",
       "      <td>၁၀၂၇ ဒုတိယလှိုင်း စစ်ဆင်ရေးတွင် ဗမာပြည်သူ့လွတ်...</td>\n",
       "      <td>July 24, 2024</td>\n",
       "      <td>ရန်ကုန်၊ ဇူလိုင် ၂၄၁၀၂၇ ဒုတိယလှိုင်း စစ်ဆင်ရေး...</td>\n",
       "    </tr>\n",
       "    <tr>\n",
       "      <th>18</th>\n",
       "      <td>လားရှိုးအခြေစိုက် စစ်ကောင်စီတပ်ရင်းများကို မြေ...</td>\n",
       "      <td>July 24, 2024</td>\n",
       "      <td>ရန်ကုန်၊ ဇူလိုင် ၂၄ယမန်နေ့တွင် ခလရ ၆၈ ၊ ခလရ ၄၁...</td>\n",
       "    </tr>\n",
       "    <tr>\n",
       "      <th>19</th>\n",
       "      <td>ရေဖြူမြိုပေါ်တွင် စစ်သားများ လိုက်ပါလာသည့် ကား...</td>\n",
       "      <td>July 24, 2024</td>\n",
       "      <td>ရန်ကုန်၊ ဇူလိုင် ၂၄ဇူလိုင်လ ၂၂ ရက်နေ့ ညနေ ၃ နာ...</td>\n",
       "    </tr>\n",
       "    <tr>\n",
       "      <th>20</th>\n",
       "      <td>စစ်ကိုင်း၊ မင်းကွန်းရွာတွင် ဈေးဝယ်ပြန်လာသည့် စ...</td>\n",
       "      <td>July 24, 2024</td>\n",
       "      <td>ရန်ကုန်၊ ဇူလိုင် ၂၄ယမန်နေ့ ဇူလိုင်လ ၂၃ ရက် နံန...</td>\n",
       "    </tr>\n",
       "    <tr>\n",
       "      <th>21</th>\n",
       "      <td>အုပ်ချုပ်ရေးယန္တရား ပြိုလဲနေသည့် ရခိုင်ပြည်တွင...</td>\n",
       "      <td>July 24, 2024</td>\n",
       "      <td>ရန်ကုန်၊ ဇူလိုင် ၂၄ရခိုင်ပြည်အတွင်း တပ်စခန်းမျ...</td>\n",
       "    </tr>\n",
       "    <tr>\n",
       "      <th>22</th>\n",
       "      <td>နောက်ပြန်မလှည့်ကြေး ဒီတော်လှန်ရေး လူထုသပိတ် စစ...</td>\n",
       "      <td>July 24, 2024</td>\n",
       "      <td>ရန်ကုန်၊ ဇူလိုင် ၂၄ယင်းမာပင်မြို့နယ်တွင် နောက်...</td>\n",
       "    </tr>\n",
       "    <tr>\n",
       "      <th>23</th>\n",
       "      <td>အောင်လံလွှင့်မည် ဒေါင်းသွေးနီ သပိတ်စစ်ကြောင်းက...</td>\n",
       "      <td>July 24, 2024</td>\n",
       "      <td>အောင်လံလွှင့်မည် ဒေါင်းသွေးနီ သပိတ်စစ်ကြောင်းက...</td>\n",
       "    </tr>\n",
       "    <tr>\n",
       "      <th>24</th>\n",
       "      <td>ယင်းမာပင်မြို့နယ်တွင် စစ်အာဏာရှင် ဆန့်ကျင်ရေး ...</td>\n",
       "      <td>July 24, 2024</td>\n",
       "      <td>ယင်းမာပင်မြို့နယ်တွင် စစ်အာဏာရှင် ဆန့်ကျင်ရေး ...</td>\n",
       "    </tr>\n",
       "    <tr>\n",
       "      <th>25</th>\n",
       "      <td>မိုးမိတ်မြို့ရှိ စစ်တပ် ဗျူဟာကုန်းကို TNLA က တ...</td>\n",
       "      <td>July 24, 2024</td>\n",
       "      <td>မိုးမိတ်မြို့ရှိ စစ်တပ် ဗျူဟာကုန်းကို  က တိုက်...</td>\n",
       "    </tr>\n",
       "  </tbody>\n",
       "</table>\n",
       "</div>"
      ],
      "text/plain": [
       "                                          News Header           Time  \\\n",
       "0   ပခုက္ကူမြို့တွင် KTV မှ ပြန်လာသော ဗိုလ်ကြီး ၁ ...  July 24, 2024   \n",
       "1   ထိုင်းနိုင်ငံ စမူပါကန် ဘောလုံးကွင်းတွင် နဂါးဖြ...  July 24, 2024   \n",
       "2   စစ်ကောင်စီနှင့် လက်အောက်ခံတပ်ဖွဲ့များက ၃ နှစ်က...  July 24, 2024   \n",
       "3   အကြမ်းဖက်စစ်ကောင်စီက ထင်ရှား လူသိများသော စီးပွ...  July 24, 2024   \n",
       "4   မလေးရှားနိုင်ငံသို့ တရားမဝင် သွားရောက် အလုပ်လု...  July 24, 2024   \n",
       "5   စဉ့်ကူးမြို့နယ်၊ ကျည်တောက်ပေါက်ရွာကို စစ်တပ်က ...  July 24, 2024   \n",
       "6   ဆားလင်းကြီးမြို့နယ်အတွင်းရှိ ရေဘေးသင့်ပြည်သူမျ...  July 24, 2024   \n",
       "7   အမေရိကန်တစ်ဒေါ်လာ ငွေကျပ် ၅၀၀၀ ဝန်းကျင်သို့ ပြ...  July 24, 2024   \n",
       "8   စစ်ကောင်စီက ယနေ့ နံနက်အစောပိုင်း လောက်ကိုင်မြိ...  July 24, 2024   \n",
       "9   အောင်လံလွှင့်မည် ဒေါင်းသွေးနီ သပိတ်စစ်ကြောင်းက...  July 24, 2024   \n",
       "10  ဆားလင်းကြီးမြို့နယ်ရှိ စစ်ရှောင် ပြည်သူများကို...  July 24, 2024   \n",
       "11  ယင်းမာပင်မြို့နယ်တွင် စစ်အာဏာရှင် ဆန့်ကျင်ရေး ...  July 24, 2024   \n",
       "12  မိုးမိတ်မြို့ရှိ စစ်တပ် ဗျူဟာကုန်းကို TNLA က တ...  July 24, 2024   \n",
       "13  စစ်ကောင်စီတပ်က ပုဏ္ဏားကျွန်းမြို့နယ်ကို လက်နက်...  July 24, 2024   \n",
       "14  ရခိုင်ရှိ Poscoကုမ္ပဏီရုံးသို့ စစ်တပ်က မကြာခဏ ...  July 24, 2024   \n",
       "15  ဗမာလွတ်မြောက်ရေးဒီမိုကရက်တစ်တပ်ဦး(BLDF) စစ်ဒေသ...  July 24, 2024   \n",
       "16  ရေနံချောင်းတွင် စစ်သားစုဆောင်းနေသော ရွာသစ်ရပ်က...  July 24, 2024   \n",
       "17  ၁၀၂၇ ဒုတိယလှိုင်း စစ်ဆင်ရေးတွင် ဗမာပြည်သူ့လွတ်...  July 24, 2024   \n",
       "18  လားရှိုးအခြေစိုက် စစ်ကောင်စီတပ်ရင်းများကို မြေ...  July 24, 2024   \n",
       "19  ရေဖြူမြိုပေါ်တွင် စစ်သားများ လိုက်ပါလာသည့် ကား...  July 24, 2024   \n",
       "20  စစ်ကိုင်း၊ မင်းကွန်းရွာတွင် ဈေးဝယ်ပြန်လာသည့် စ...  July 24, 2024   \n",
       "21  အုပ်ချုပ်ရေးယန္တရား ပြိုလဲနေသည့် ရခိုင်ပြည်တွင...  July 24, 2024   \n",
       "22  နောက်ပြန်မလှည့်ကြေး ဒီတော်လှန်ရေး လူထုသပိတ် စစ...  July 24, 2024   \n",
       "23  အောင်လံလွှင့်မည် ဒေါင်းသွေးနီ သပိတ်စစ်ကြောင်းက...  July 24, 2024   \n",
       "24  ယင်းမာပင်မြို့နယ်တွင် စစ်အာဏာရှင် ဆန့်ကျင်ရေး ...  July 24, 2024   \n",
       "25  မိုးမိတ်မြို့ရှိ စစ်တပ် ဗျူဟာကုန်းကို TNLA က တ...  July 24, 2024   \n",
       "\n",
       "                                              Content  \n",
       "0   ပခုက္ကူမြို့တွင်  မှ ပြန်လာသော ဗိုလ်ကြီး ၁ ဦးက...  \n",
       "1   ထိုင်းနိုင်ငံ စမူပါကန် ဘောလုံးကွင်းတွင် နဂါးဖြ...  \n",
       "2   ရန်ကုန်| ဇူလိုင် ၂၄မြန်မာနိုင်ငံတွင် ၂၀၂၁ ခုနှ...  \n",
       "3   ရန်ကုန်၊ ဇူလိုင် ၂၄အကြမ်းဖက်စစ်ကောင်စီက ထင်ရှာ...  \n",
       "4   ရန်ကုန်၊ ဇူလိုင် ၂၄မလေးရှားနိုင်ငံသို့ သွားရော...  \n",
       "5   စဉ့်ကူးမြို့နယ်၊ ကျည်တောက်ပေါက်ရွာကို စစ်တပ်က ...  \n",
       "6   ဆားလင်းကြီးမြို့နယ်အတွင်းရှိ ရေဘေးသင့်ပြည်သူမျ...  \n",
       "7   ရန်ကုန်၊ ဇူလိုင် ၂၄မြန်မာနိုင်ငံ၏ ပြည်တွင်းစီး...  \n",
       "8   စစ်ကောင်စီက ယနေ့ နံနက်အစောပိုင်း လောက်ကိုင်မြိ...  \n",
       "9   အောင်လံလွှင့်မည် ဒေါင်းသွေးနီ သပိတ်စစ်ကြောင်းက...  \n",
       "10  ဆားလင်းကြီးမြို့နယ်ရှိ စစ်ရှောင် ပြည်သူများကို...  \n",
       "11  ယင်းမာပင်မြို့နယ်တွင် စစ်အာဏာရှင် ဆန့်ကျင်ရေး ...  \n",
       "12  မိုးမိတ်မြို့ရှိ စစ်တပ် ဗျူဟာကုန်းကို  က တိုက်...  \n",
       "13  ရန်ကုန်| ဇူလိုင် ၂၄ရခိုင်ပြည်တွင် အာရက္ခတပ်တော...  \n",
       "14  ရန်ကုန်၊ ဇူလိုင် ၂၄အဆိုပါ ဖမ်းဆီးခံရသူများကို ...  \n",
       "15  ရန်ကုန်၊ ဇူလိုင် ၂၄ဗမာလွတ်မြောက်ရေးဒီမိုကရက်တစ...  \n",
       "16  ရန်ကုန်၊ ဇူလိုင် ၂၄သေဆုံးသူ အုပ်ချုပ်ရေးမှူး သ...  \n",
       "17  ရန်ကုန်၊ ဇူလိုင် ၂၄၁၀၂၇ ဒုတိယလှိုင်း စစ်ဆင်ရေး...  \n",
       "18  ရန်ကုန်၊ ဇူလိုင် ၂၄ယမန်နေ့တွင် ခလရ ၆၈ ၊ ခလရ ၄၁...  \n",
       "19  ရန်ကုန်၊ ဇူလိုင် ၂၄ဇူလိုင်လ ၂၂ ရက်နေ့ ညနေ ၃ နာ...  \n",
       "20  ရန်ကုန်၊ ဇူလိုင် ၂၄ယမန်နေ့ ဇူလိုင်လ ၂၃ ရက် နံန...  \n",
       "21  ရန်ကုန်၊ ဇူလိုင် ၂၄ရခိုင်ပြည်အတွင်း တပ်စခန်းမျ...  \n",
       "22  ရန်ကုန်၊ ဇူလိုင် ၂၄ယင်းမာပင်မြို့နယ်တွင် နောက်...  \n",
       "23  အောင်လံလွှင့်မည် ဒေါင်းသွေးနီ သပိတ်စစ်ကြောင်းက...  \n",
       "24  ယင်းမာပင်မြို့နယ်တွင် စစ်အာဏာရှင် ဆန့်ကျင်ရေး ...  \n",
       "25  မိုးမိတ်မြို့ရှိ စစ်တပ် ဗျူဟာကုန်းကို  က တိုက်...  "
      ]
     },
     "execution_count": 24,
     "metadata": {},
     "output_type": "execute_result"
    }
   ],
   "source": [
    "df"
   ]
  },
  {
   "cell_type": "markdown",
   "id": "bf375b43-6580-4a9e-ae5e-702420fc9552",
   "metadata": {},
   "source": [
    "## Conclusion\n",
    "I find that Yangon Khit Thit (YKT) suggests certain news by the editor, unlike BBC Burmese. These kinds of news are already included in pages, causing duplicates. Furthermore, YKT uses commas(,) in page numbers. Inserting specific solutions to such differences is required if I were to use the BBC Burmese Webscraper script."
   ]
  }
 ],
 "metadata": {
  "kernelspec": {
   "display_name": "Python 3 (ipykernel)",
   "language": "python",
   "name": "python3"
  },
  "language_info": {
   "codemirror_mode": {
    "name": "ipython",
    "version": 3
   },
   "file_extension": ".py",
   "mimetype": "text/x-python",
   "name": "python",
   "nbconvert_exporter": "python",
   "pygments_lexer": "ipython3",
   "version": "3.11.9"
  }
 },
 "nbformat": 4,
 "nbformat_minor": 5
}
